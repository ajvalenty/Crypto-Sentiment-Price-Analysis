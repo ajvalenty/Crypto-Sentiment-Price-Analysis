{
 "cells": [
  {
   "cell_type": "markdown",
   "id": "e93ef234-3a50-4c20-8007-cb73586f224d",
   "metadata": {
    "id": "f6fa38a4-2116-4817-b58b-9978826073e9"
   },
   "source": [
    "# Crypto Sentiment Analysis and Price Correlation\n",
    "\n",
    "### AJ Valenty and Ziyana Samanani\n",
    "Welcome! Below is our notebook for our sentiment analysis on crypto prices and correlation with predicting prices with a focus on intraday price prediction. Link to our paper here. "
   ]
  },
  {
   "cell_type": "markdown",
   "id": "83c55d42-c12f-4d01-bf4a-000269860993",
   "metadata": {},
   "source": [
    "## Initial Setup"
   ]
  },
  {
   "cell_type": "code",
   "execution_count": 1,
   "id": "6ea66679-a1ae-47f3-bd6e-d73d0b3d881e",
   "metadata": {},
   "outputs": [],
   "source": [
    "import pandas as pd\n",
    "import seaborn as sns\n",
    "import matplotlib.pyplot as plt\n",
    "import math"
   ]
  },
  {
   "cell_type": "code",
   "execution_count": 2,
   "id": "781ed8f3-2fec-4868-8cc6-2d7cc921515b",
   "metadata": {},
   "outputs": [],
   "source": [
    "#Change this flag if you're using google colab\n",
    "#This is so we can get the hourly data from the web if needed\n",
    "usingGoogleColab = False"
   ]
  },
  {
   "cell_type": "code",
   "execution_count": 3,
   "id": "ef7ce287-80e2-4d56-b262-a75e0a588a7e",
   "metadata": {
    "colab": {
     "base_uri": "https://localhost:8080/",
     "height": 632
    },
    "id": "on-14-2k22-K",
    "outputId": "7ade6635-8f30-425f-ce28-37c1cbbce6e7"
   },
   "outputs": [
    {
     "name": "stderr",
     "output_type": "stream",
     "text": [
      "/Users/ajvalenty/opt/anaconda3/lib/python3.8/site-packages/IPython/core/interactiveshell.py:3357: DtypeWarning: Columns (1,2,3,5,6,7,8,9,10,11,12) have mixed types.Specify dtype option on import or set low_memory=False.\n",
      "  if (await self.run_code(code, result,  async_=asy)):\n"
     ]
    }
   ],
   "source": [
    "import ssl #Only for Google colab\n",
    "\n",
    "def setup(usingGoogleColab):\n",
    "    global btc_df\n",
    "    global df\n",
    "    \n",
    "    if usingGoogleColab:\n",
    "        filepath = 'https://www.cryptodatadownload.com/cdd/Bitstamp_BTCUSD_1h.csv'\n",
    "        ssl._create_default_https_context = ssl._create_unverified_context\n",
    "        btc_df = pd.read_csv(filepath, skiprows=1)\n",
    "    else:\n",
    "        btc_df = pd.read_csv('Bitstamp_BTCUSD_1h.csv')\n",
    "\n",
    "    # Load bitcoin tweets\n",
    "    df = pd.read_csv('Bitcoin_tweets.csv')\n",
    "\n",
    "setup(usingGoogleColab)"
   ]
  },
  {
   "cell_type": "markdown",
   "id": "cbd36241-aedd-4033-96de-aeb89937d196",
   "metadata": {},
   "source": [
    "## Data Analysis: Missing Data and Data Type Setup\n",
    "\n",
    "\n"
   ]
  },
  {
   "cell_type": "code",
   "execution_count": 4,
   "id": "823d0f08-bda8-4e9a-9f96-db5024aab224",
   "metadata": {
    "colab": {
     "base_uri": "https://localhost:8080/",
     "height": 452
    },
    "id": "823d0f08-bda8-4e9a-9f96-db5024aab224",
    "outputId": "25ff91bb-ca59-45ea-e5aa-78877386b0e4"
   },
   "outputs": [
    {
     "data": {
      "text/html": [
       "<div>\n",
       "<style scoped>\n",
       "    .dataframe tbody tr th:only-of-type {\n",
       "        vertical-align: middle;\n",
       "    }\n",
       "\n",
       "    .dataframe tbody tr th {\n",
       "        vertical-align: top;\n",
       "    }\n",
       "\n",
       "    .dataframe thead th {\n",
       "        text-align: right;\n",
       "    }\n",
       "</style>\n",
       "<table border=\"1\" class=\"dataframe\">\n",
       "  <thead>\n",
       "    <tr style=\"text-align: right;\">\n",
       "      <th></th>\n",
       "      <th>Missing Ratio</th>\n",
       "    </tr>\n",
       "  </thead>\n",
       "  <tbody>\n",
       "    <tr>\n",
       "      <th>user_location</th>\n",
       "      <td>0.530440</td>\n",
       "    </tr>\n",
       "    <tr>\n",
       "      <th>user_description</th>\n",
       "      <td>0.203016</td>\n",
       "    </tr>\n",
       "    <tr>\n",
       "      <th>hashtags</th>\n",
       "      <td>0.142374</td>\n",
       "    </tr>\n",
       "    <tr>\n",
       "      <th>source</th>\n",
       "      <td>0.134549</td>\n",
       "    </tr>\n",
       "    <tr>\n",
       "      <th>is_retweet</th>\n",
       "      <td>0.132619</td>\n",
       "    </tr>\n",
       "    <tr>\n",
       "      <th>user_followers</th>\n",
       "      <td>0.118551</td>\n",
       "    </tr>\n",
       "    <tr>\n",
       "      <th>user_friends</th>\n",
       "      <td>0.118551</td>\n",
       "    </tr>\n",
       "    <tr>\n",
       "      <th>user_favourites</th>\n",
       "      <td>0.118551</td>\n",
       "    </tr>\n",
       "    <tr>\n",
       "      <th>user_verified</th>\n",
       "      <td>0.118551</td>\n",
       "    </tr>\n",
       "    <tr>\n",
       "      <th>date</th>\n",
       "      <td>0.118551</td>\n",
       "    </tr>\n",
       "    <tr>\n",
       "      <th>text</th>\n",
       "      <td>0.118551</td>\n",
       "    </tr>\n",
       "    <tr>\n",
       "      <th>user_created</th>\n",
       "      <td>0.118459</td>\n",
       "    </tr>\n",
       "    <tr>\n",
       "      <th>user_name</th>\n",
       "      <td>0.000016</td>\n",
       "    </tr>\n",
       "  </tbody>\n",
       "</table>\n",
       "</div>"
      ],
      "text/plain": [
       "                  Missing Ratio\n",
       "user_location          0.530440\n",
       "user_description       0.203016\n",
       "hashtags               0.142374\n",
       "source                 0.134549\n",
       "is_retweet             0.132619\n",
       "user_followers         0.118551\n",
       "user_friends           0.118551\n",
       "user_favourites        0.118551\n",
       "user_verified          0.118551\n",
       "date                   0.118551\n",
       "text                   0.118551\n",
       "user_created           0.118459\n",
       "user_name              0.000016"
      ]
     },
     "execution_count": 4,
     "metadata": {},
     "output_type": "execute_result"
    }
   ],
   "source": [
    "df_len = len(df)\n",
    "df_na = (df_len - df.count())/df_len\n",
    "\n",
    "df_na = df_na.drop(df_na[df_na == 0].index).sort_values(ascending=False)[:30]\n",
    "missing_data = pd.DataFrame({'Missing Ratio' :df_na})\n",
    "missing_data.head(20)"
   ]
  },
  {
   "cell_type": "code",
   "execution_count": 5,
   "id": "4GEF9h91Br77",
   "metadata": {
    "colab": {
     "base_uri": "https://localhost:8080/"
    },
    "id": "4GEF9h91Br77",
    "outputId": "1854231f-d53f-4267-95c0-9bb3d269bd3b"
   },
   "outputs": [
    {
     "data": {
      "text/plain": [
       "user_name            object\n",
       "user_location        object\n",
       "user_description     object\n",
       "user_created         object\n",
       "user_followers      float64\n",
       "user_friends         object\n",
       "user_favourites      object\n",
       "user_verified        object\n",
       "date                 object\n",
       "text                 object\n",
       "hashtags             object\n",
       "source               object\n",
       "is_retweet           object\n",
       "dtype: object"
      ]
     },
     "execution_count": 5,
     "metadata": {},
     "output_type": "execute_result"
    }
   ],
   "source": [
    "df.dtypes"
   ]
  },
  {
   "cell_type": "markdown",
   "id": "c8716658-4cb3-4267-91b7-f667c97764ea",
   "metadata": {},
   "source": [
    "## Malformed Data\n",
    "As you can see, we must remove missing values and set the appropriate data types. For one, we do not neeed user_location, source, and user_created, as they are irrelevant to our model.\n",
    "\n",
    "There is also random data entries for the the date, which we remove manually."
   ]
  },
  {
   "cell_type": "code",
   "execution_count": 4,
   "id": "b2dbd5e4-1a6f-48e2-b8cc-74d0a257598b",
   "metadata": {
    "id": "b2dbd5e4-1a6f-48e2-b8cc-74d0a257598b"
   },
   "outputs": [],
   "source": [
    "#Remove entire column: user_location, source, and user_created (not relevant to the model) \n",
    "df = df.drop(['user_location', 'source', 'user_created'], axis=1)\n",
    "\n",
    "#Remove entire row where text is missing (extremely relevant to model)\n",
    "df_text = df['text']\n",
    "idx_drop = []\n",
    "text_miss = df_text.isnull()\n",
    "\n",
    "for i in range(len(text_miss)):\n",
    "    if text_miss[i] == True:\n",
    "        idx_drop.append(i)\n",
    "\n",
    "#Remove entire row where date is missing\n",
    "df_date = df['date']\n",
    "idx_drop2 = []\n",
    "date_miss = df_date.isnull()\n",
    "\n",
    "for i in range(len(date_miss)):\n",
    "      if date_miss[i] == True:\n",
    "        idx_drop2.append(i)\n",
    "\n",
    "for num in idx_drop2:\n",
    "    if num not in idx_drop:\n",
    "        idx_drop.append(num)\n",
    "\n",
    "df = df.drop(idx_drop)\n",
    "\n",
    "# Get indexes where date field is abnormal\n",
    "# Delete these row indexes from dataFrame\n",
    "indexNames = df[df['date'] == \"['ETH', 'BTC', 'Bitcoin']\"].index\n",
    "df.drop(indexNames , inplace=True)\n",
    "\n",
    "indexNames = df[df['date'] == \"['cryptocurrency', 'BSC', 'Bitcoin', 'Ethereum', 'ETH', 'Airdrop', 'bounty', 'ESHOP', 'Airdrops']\"].index\n",
    "df.drop(indexNames , inplace=True)\n",
    "\n",
    "indexNames = df[df['date'] == \"['YieldFarming', 'Airdrop', 'Binance', 'Bitcoin', 'pancakeswap', 'BNB', 'cryptocurrency', 'DeFi', 'BTC', 'BinanceSmartChain', 'BSC', 'pufferswap', 'DeFi', 'bsc', 'bnb', 'bitcoin', 'cryto', 'Airdrop', 'Airdrop']\"].index\n",
    "df.drop(indexNames , inplace=True)\n",
    "\n",
    "indexNames = df[df['date'] == \"['btc']\"].index\n",
    "df.drop(indexNames , inplace=True)\n",
    "\n",
    "indexNames = df[df['date'] == \"['YieldFarming', 'Airdrop', 'PancakeSwap', 'Giveaway', 'BTC', 'BNB', 'Binance', 'BSC', 'cryptocurrency']\"].index\n",
    "df.drop(indexNames , inplace=True)\n",
    "\n",
    "indexNames = df[df['date'] == \"['Bitcoin']\"].index\n",
    "df.drop(indexNames , inplace=True)\n",
    "\n",
    "indexNames = df[df['date'] == \"['cryptotrading', 'crypto', 'tradingbots', 'bitcoin', 'btc']\"].index\n",
    "df.drop(indexNames , inplace=True)\n",
    "\n",
    "indexNames = df[df['date'] == \"['PW', 'pythonwealth', 'Presale', 'token', 'ico', 'BSC', 'Binance', 'smartchain', 'blockchain', 'coin', 'airdrop', 'launch', 'token_presale', 'poocoin', 'pinksale', 'pancakeswap', 'bitcoin', 'btc']\"].index\n",
    "df.drop(indexNames , inplace=True)\n",
    "\n",
    "indexNames = df[df['date'] == \"['bitcoin']\"].index\n",
    "df.drop(indexNames , inplace=True)\n",
    "\n",
    "indexNames = df[df['date'] == \"['cryptotrading', 'tradingbots', 'altcoins', 'bitcoin']\"].index\n",
    "df.drop(indexNames , inplace=True)\n",
    "\n",
    "indexNames = df[df['date'] == \"['cryptotrading', 'tradingbots', 'altcoins', 'bitcoin', 'trading', 'crypto', 'security']\"].index\n",
    "df.drop(indexNames , inplace=True)\n",
    "\n",
    "#Set proper types for our dataframes\n",
    "df['date'] = df['date'].astype('datetime64[ns]')\n",
    "df['user_friends'] = df['user_friends'].astype('float64')\n",
    "df['user_verified'] = df['user_verified'].astype('bool')\n",
    "df[\"hashtags\"]=df[\"hashtags\"].apply(lambda s : s[1:-1].split(',') if isinstance(s,str) else [])\n",
    "\n"
   ]
  },
  {
   "cell_type": "code",
   "execution_count": 68,
   "id": "2726dbda-ea27-4fb2-9970-7d6b4149e578",
   "metadata": {},
   "outputs": [],
   "source": [
    "btc_df = btc_df.reset_index(drop=False)\n",
    "btc_df = btc_df.rename(columns={'level_0': 'unix', 'level_1': 'date', 'level_2': 'symbol', 'level_3': 'open', 'level_4': 'high', 'level_5': 'low', 'level_6': 'close', 'level_7': 'Volume BTC', 'https://www.CryptoDataDownload.com': 'Volume USD'})\n",
    "btc_df = btc_df.drop(0)\n",
    "btc_df['date'] = btc_df['date'].astype('string')\n",
    "btc_df['date'] = btc_df['date'].astype('datetime64[ns]')\n",
    "btc_df['symbol'] = btc_df['symbol'].astype('string')\n",
    "btc_df['open'] = btc_df['open'].astype('float64')\n",
    "btc_df['high'] = btc_df['high'].astype('float64')\n",
    "btc_df['low'] = btc_df['low'].astype('float64')\n",
    "btc_df['close'] = btc_df['close'].astype('float64')\n",
    "btc_df['Volume BTC'] = btc_df['Volume BTC'].astype('float64')\n",
    "btc_df['Volume USD'] = btc_df['Volume USD'].astype('float64')"
   ]
  },
  {
   "cell_type": "markdown",
   "id": "c62cef92-73c9-4fb4-b8d3-e1d5f8b1254c",
   "metadata": {},
   "source": [
    "## Sentiment Analysis\n",
    "\n",
    "Now that we have clean data, let's install the proper packages for sentiment analysis and compute the sentiment for each tweet we have. We can weight the sentiment based on the z score of the user's follower count, and calculate and impact score based on whether the user is verified, favourite count, and hashtag length"
   ]
  },
  {
   "cell_type": "code",
   "execution_count": 10,
   "id": "aa94072d-a1ff-4271-a165-5aaa882df4a8",
   "metadata": {},
   "outputs": [
    {
     "name": "stdout",
     "output_type": "stream",
     "text": [
      "Requirement already satisfied: textblob in /Users/ajvalenty/opt/anaconda3/lib/python3.8/site-packages (0.17.1)\n",
      "Requirement already satisfied: nltk>=3.1 in /Users/ajvalenty/opt/anaconda3/lib/python3.8/site-packages (from textblob) (3.6.1)\n",
      "Requirement already satisfied: tqdm in /Users/ajvalenty/opt/anaconda3/lib/python3.8/site-packages (from nltk>=3.1->textblob) (4.59.0)\n",
      "Requirement already satisfied: joblib in /Users/ajvalenty/opt/anaconda3/lib/python3.8/site-packages (from nltk>=3.1->textblob) (1.1.0)\n",
      "Requirement already satisfied: regex in /Users/ajvalenty/opt/anaconda3/lib/python3.8/site-packages (from nltk>=3.1->textblob) (2021.4.4)\n",
      "Requirement already satisfied: click in /Users/ajvalenty/opt/anaconda3/lib/python3.8/site-packages (from nltk>=3.1->textblob) (7.1.2)\n"
     ]
    }
   ],
   "source": [
    "#We are using textblob sentiment library for our sentiment analysis\n",
    "!pip install -U textblob"
   ]
  },
  {
   "cell_type": "code",
   "execution_count": 6,
   "id": "11d335e2-cef9-4984-9d25-5a3e8b33e1ca",
   "metadata": {
    "id": "11d335e2-cef9-4984-9d25-5a3e8b33e1ca"
   },
   "outputs": [],
   "source": [
    "from textblob import TextBlob\n",
    "import math\n",
    "\n",
    "follower_mean = df['user_followers'].mean()\n",
    "follower_std = df['user_followers'].std()\n",
    "\n",
    "\n",
    "def computeSentimentAnalysis(sentences, followers):\n",
    "    sentiment = 0\n",
    "    \n",
    "    #Calculate polarity\n",
    "    blob = TextBlob(sentences)\n",
    "    \n",
    "    #Take the max polarity value for multiple sentence tweets\n",
    "    for i in blob.sentences:\n",
    "        if abs(i.sentiment.polarity) > abs(sentiment):\n",
    "            sentiment = i.sentiment.polarity\n",
    "\n",
    "    z_score = (followers - follower_mean) / follower_std\n",
    "    weight = z_score\n",
    "    \n",
    "    if z_score < 1: #If the z_score is less than average, keep it's weight\n",
    "        weight = 1\n",
    "    else:\n",
    "        #Otherwise, weight quadratically if you have more followers than average.\n",
    "        weight = abs(z_score) ** 2\n",
    "\n",
    "    if sentiment > 0:\n",
    "        return 1, 1 * (weight)\n",
    "    elif sentiment == 0:\n",
    "        return 0, 0\n",
    "    else:\n",
    "        return -1, -1 * (weight)\n"
   ]
  },
  {
   "cell_type": "code",
   "execution_count": 9,
   "id": "fed50c1b-0141-49d0-9161-7a7ec304c0b4",
   "metadata": {
    "colab": {
     "base_uri": "https://localhost:8080/"
    },
    "id": "fed50c1b-0141-49d0-9161-7a7ec304c0b4",
    "outputId": "8567018d-54d8-4259-e414-e4e5e83db354"
   },
   "outputs": [
    {
     "data": {
      "text/plain": [
       "(-1, -2.8057631685060427)"
      ]
     },
     "execution_count": 9,
     "metadata": {},
     "output_type": "execute_result"
    }
   ],
   "source": [
    "#Example sentiment\n",
    "computeSentimentAnalysis(\"I hate BTC. It has no purpose and just wait until regulations come.\", 200000)"
   ]
  },
  {
   "cell_type": "code",
   "execution_count": 7,
   "id": "226361f5-7e53-4dc5-82f9-f4bb99da587c",
   "metadata": {},
   "outputs": [],
   "source": [
    "for idx, row in df.iterrows():\n",
    "    sentiment, weighted = computeSentimentAnalysis(str(row['text']), row['user_followers'])\n",
    "    df.at[idx, 'sentiment'] = sentiment\n",
    "    df.at[idx, 'weighted_sentiment'] = weighted\n",
    "# df['sentiment'] = df['sentiment'].apply(computeSentimentAnalysis, axis=1)"
   ]
  },
  {
   "cell_type": "code",
   "execution_count": 8,
   "id": "5023413c-37f4-484b-9f23-ce3d65e739e9",
   "metadata": {},
   "outputs": [],
   "source": [
    "#Using a sample influencer score calculator online\n",
    "def computeInfluencerScore(row):\n",
    "    coef_verified = 1.1 if row.user_verified else 1\n",
    "    coef_hashtags = 1+(len(row.hashtags)/20)\n",
    "    return ((row.user_followers + (row.user_friends/4))*coef_verified*coef_hashtags)/100\n",
    "    "
   ]
  },
  {
   "cell_type": "code",
   "execution_count": 9,
   "id": "f36ad72e-cea8-4917-ad05-ea53bff7b134",
   "metadata": {},
   "outputs": [],
   "source": [
    "df[\"influencer_score\"] = df.apply(computeInfluencerScore, axis=1)"
   ]
  },
  {
   "cell_type": "code",
   "execution_count": 10,
   "id": "78baf835-5f54-493b-8b2b-82156b6a546e",
   "metadata": {},
   "outputs": [
    {
     "data": {
      "text/plain": [
       "count    1.513416e+06\n",
       "mean     7.107818e-01\n",
       "std      6.897904e+01\n",
       "min     -1.403078e+04\n",
       "25%      0.000000e+00\n",
       "50%      1.000000e+00\n",
       "75%      1.000000e+00\n",
       "max      4.273975e+04\n",
       "Name: weighted_sentiment, dtype: float64"
      ]
     },
     "execution_count": 10,
     "metadata": {},
     "output_type": "execute_result"
    }
   ],
   "source": [
    "df['weighted_sentiment'].describe()"
   ]
  },
  {
   "cell_type": "code",
   "execution_count": 14,
   "id": "678a6073-f11a-426a-ab53-24feb9c77c11",
   "metadata": {},
   "outputs": [
    {
     "data": {
      "image/png": "[encoded data removed]",
      "text/plain": [
       "<Figure size 432x288 with 1 Axes>"
      ]
     },
     "metadata": {
      "needs_background": "light"
     },
     "output_type": "display_data"
    }
   ],
   "source": [
    "df['sentiment'].value_counts().plot(kind=\"bar\")\n",
    "plt.title(\"Twitter Sentiment using Textblob\")\n",
    "plt.xlabel(\"Positive, Neutral, or Negative\")\n",
    "plt.ylabel(\"Quantity\")\n",
    "plt.show()"
   ]
  },
  {
   "cell_type": "markdown",
   "id": "3d9cf923-0f49-4904-baad-e12f6598015b",
   "metadata": {},
   "source": [
    "### A sentiment has been created for all tweets. Now we must join them into hourly/6-hourly/daily groupings."
   ]
  },
  {
   "cell_type": "code",
   "execution_count": 11,
   "id": "9d9323e6-2ab9-406c-bdbd-aaa57634ecea",
   "metadata": {},
   "outputs": [],
   "source": [
    "hourly_df = df.copy()\n",
    "twelve_df = df.copy()"
   ]
  },
  {
   "cell_type": "code",
   "execution_count": 22,
   "id": "579c1505-72c3-4c16-acfe-18d1a985a270",
   "metadata": {},
   "outputs": [
    {
     "data": {
      "text/plain": [
       "user_name                     object\n",
       "user_description              object\n",
       "user_followers               float64\n",
       "user_friends                 float64\n",
       "user_favourites               object\n",
       "user_verified                   bool\n",
       "date                  datetime64[ns]\n",
       "text                          object\n",
       "hashtags                      object\n",
       "is_retweet                    object\n",
       "sentiment                    float64\n",
       "weighted_sentiment           float64\n",
       "influencer_score             float64\n",
       "dtype: object"
      ]
     },
     "execution_count": 22,
     "metadata": {},
     "output_type": "execute_result"
    }
   ],
   "source": [
    "df.dtypes"
   ]
  },
  {
   "cell_type": "code",
   "execution_count": 23,
   "id": "ec315422-5fdb-4abb-9d74-be8ed736cd12",
   "metadata": {
    "id": "ec315422-5fdb-4abb-9d74-be8ed736cd12"
   },
   "outputs": [],
   "source": [
    "import datetime\n",
    "import numpy as np\n",
    "\n",
    "#Round time to the nearest roundTo Value\n",
    "def roundTime(dt, roundTo):\n",
    "    seconds = (dt.replace(tzinfo=None) - dt.min).seconds\n",
    "    rounding = (seconds+roundTo/2) // roundTo * roundTo\n",
    "   \n",
    "    return dt + datetime.timedelta(0,rounding-seconds,-dt.microsecond)"
   ]
  },
  {
   "cell_type": "code",
   "execution_count": 17,
   "id": "d4d38b16-562c-426e-8708-3d13177911be",
   "metadata": {
    "id": "d4d38b16-562c-426e-8708-3d13177911be",
    "outputId": "7a1db7b5-db43-41f6-eccd-4ac843732d2e"
   },
   "outputs": [
    {
     "name": "stdout",
     "output_type": "stream",
     "text": [
      "2012-12-31 06:00:00\n"
     ]
    }
   ],
   "source": [
    "#Sample of rounding the time down to 6 hours\n",
    "print(roundTime(datetime.datetime(2012,12,31,3,29,59,1234),roundTo=60*60*6))\n"
   ]
  },
  {
   "cell_type": "markdown",
   "id": "a1b0c992-7e61-4a4f-b94b-ee16d0365313",
   "metadata": {},
   "source": [
    "#### Round all tweets to a provided interval\n",
    "\n",
    "We will round all tweets to an inputted time interval. timeInt refers to hourly rounding"
   ]
  },
  {
   "cell_type": "code",
   "execution_count": 24,
   "id": "6832508a-aff2-41ed-b15d-a2376fb07e64",
   "metadata": {
    "id": "6832508a-aff2-41ed-b15d-a2376fb07e64"
   },
   "outputs": [],
   "source": [
    "def roundDFTime(frame, timeInt):\n",
    "    #Round all the tweets times to hourly\n",
    "    roundedTime = []\n",
    "    for index, row in frame.iterrows():\n",
    "        roundedTime.append(roundTime(row['date'].to_pydatetime(), 60*60*timeInt))\n",
    "\n",
    "    return roundedTime"
   ]
  },
  {
   "cell_type": "code",
   "execution_count": 25,
   "id": "72d6fbfc-f35d-4f81-800a-98ecbb868453",
   "metadata": {},
   "outputs": [],
   "source": [
    "df['date'] = roundDFTime(df, 6)\n",
    "hourly_df['date'] = roundDFTime(hourly_df, 1)\n",
    "twelve_df['date'] = roundDFTime(twelve_df, 12)"
   ]
  },
  {
   "cell_type": "markdown",
   "id": "eed6c640-7881-4f21-8ddf-560ba3dc88a1",
   "metadata": {},
   "source": [
    "##### We have 314 data points for 6 hours worth of data, which is approximately 52 days. This seems about right given our tweet data"
   ]
  },
  {
   "cell_type": "code",
   "execution_count": 28,
   "id": "3eea4788-a012-4d4c-bb31-efbb690297fe",
   "metadata": {},
   "outputs": [
    {
     "data": {
      "text/plain": [
       "314"
      ]
     },
     "execution_count": 28,
     "metadata": {},
     "output_type": "execute_result"
    }
   ],
   "source": [
    "len(df['date'].unique())"
   ]
  },
  {
   "cell_type": "markdown",
   "id": "6f30f7c3-d5be-48df-92d5-b571315d79ef",
   "metadata": {},
   "source": [
    "#### Calculate average sentiment given the time period."
   ]
  },
  {
   "cell_type": "code",
   "execution_count": 29,
   "id": "be748734-110c-4ddf-851a-5893c840e546",
   "metadata": {
    "id": "be748734-110c-4ddf-851a-5893c840e546"
   },
   "outputs": [],
   "source": [
    "def calcAverages(input_df):\n",
    "    data = {'date': [],\n",
    "    'sentiment': [],\n",
    "    'weighted_sentiment': [],\n",
    "    'influencer_score': [],\n",
    "    'volume': []}\n",
    "\n",
    "    #Initial dataframe\n",
    "    dff = pd.DataFrame(data)\n",
    "    index = 0\n",
    "    sentiment = 0\n",
    "\n",
    "    for d in input_df['date'].unique():\n",
    "        #Iterate over unique dates (hours)\n",
    "        hourly_sentiment = 0\n",
    "        hourly_count = 0\n",
    "        hourly_w_sentiment = 0\n",
    "        hourly_influence = 0\n",
    "        \n",
    "        for idx, row in input_df[input_df['date'] == d].iterrows():\n",
    "            #Iterate over the values where the date is the same\n",
    "            hourly_count += 1\n",
    "\n",
    "            #Compute the hourly total sentiment\n",
    "            hourly_sentiment += row['sentiment']\n",
    "            hourly_w_sentiment += row['weighted_sentiment']\n",
    "            hourly_influence += row['influencer_score']\n",
    "\n",
    "        hour = pd.Series(data={'date': d, 'influencer_score': hourly_influence / hourly_count, 'sentiment': hourly_sentiment / hourly_count, 'weighted_sentiment': hourly_w_sentiment / hourly_count, 'volume': hourly_count}, name=str(index))\n",
    "\n",
    "        dff = dff.append(hour, ignore_index=True)\n",
    "        index += 1\n",
    "    dff['date'] = dff['date'].astype('datetime64[ns]')\n",
    "    return dff\n",
    "        "
   ]
  },
  {
   "cell_type": "code",
   "execution_count": 30,
   "id": "50509209-c522-45e8-a3fd-2f38cc1dfcf6",
   "metadata": {},
   "outputs": [],
   "source": [
    "new_df = calcAverages(df)\n",
    "hourly_df = calcAverages(hourly_df)\n",
    "twelve_df = calcAverages(twelve_df)"
   ]
  },
  {
   "cell_type": "markdown",
   "id": "1b3e954c-82eb-47aa-8640-1d82587c85aa",
   "metadata": {},
   "source": [
    "#### Now, we will prep the BTC data by removing unnessecary dates and round them to the same time, meaning all times within a specific interval will be rounded to the start of the interval."
   ]
  },
  {
   "cell_type": "code",
   "execution_count": 69,
   "id": "10da9cd9-a187-45ed-9a8d-89eda0d46431",
   "metadata": {
    "colab": {
     "base_uri": "https://localhost:8080/"
    },
    "id": "10da9cd9-a187-45ed-9a8d-89eda0d46431",
    "outputId": "f6aff0ad-20af-4a90-a16f-ce0a6761aa14"
   },
   "outputs": [
    {
     "name": "stdout",
     "output_type": "stream",
     "text": [
      "Rows removed:\n",
      "24606\n"
     ]
    }
   ],
   "source": [
    "min_date = min(new_df['date'])\n",
    "max_date = max(new_df['date'])\n",
    "counter = 0\n",
    "\n",
    "#Remove BTC prices where the dates aren't in the twitter dataset\n",
    "for index, row in btc_df.iterrows():\n",
    "    if row['date'] < min_date or row['date'] > max_date:\n",
    "        counter += 1\n",
    "        btc_df.drop(index)\n",
    "\n",
    "print(\"Rows removed:\")\n",
    "print(counter)"
   ]
  },
  {
   "cell_type": "code",
   "execution_count": 70,
   "id": "81e0fe10-bc4b-4faf-ba6b-e5fa7924c781",
   "metadata": {},
   "outputs": [],
   "source": [
    "def roundBTCTime(df_copy, timeInt):\n",
    "\n",
    "    #Round all the tweets times to hourly\n",
    "    roundedTime = []\n",
    "    for index, row in df_copy.iterrows():\n",
    "        roundedTime.append(roundTime(row['date'].to_pydatetime(), 60*60*timeInt))\n",
    "\n",
    "    return roundedTime\n",
    "    "
   ]
  },
  {
   "cell_type": "code",
   "execution_count": 71,
   "id": "6bf5c409-3047-40eb-bdc0-afb2d3875817",
   "metadata": {},
   "outputs": [],
   "source": [
    "#For hourly and twelve hourly\n",
    "btc_df1 = btc_df.copy()\n",
    "btc_df2 = btc_df.copy()\n",
    "\n",
    "#Round all times\n",
    "btc_df['date'] = roundBTCTime(btc_df, 6)\n",
    "btc_df1['date'] = roundBTCTime(btc_df1, 1)\n",
    "btc_df2['date'] = roundBTCTime(btc_df2, 12)"
   ]
  },
  {
   "cell_type": "markdown",
   "id": "d61b71f0-4d95-4cb7-9fd7-4dbd6f7dcf2a",
   "metadata": {},
   "source": [
    "#### Compute the new close and open values for the new intervals beyond 1 hour."
   ]
  },
  {
   "cell_type": "code",
   "execution_count": 62,
   "id": "d0b905d1-e101-43ba-8858-885754b588f3",
   "metadata": {},
   "outputs": [],
   "source": [
    "def computeCloseOpenIntervals(df_copy, timeInt):\n",
    "    #Compute new close and open times for the respective intervals\n",
    "    crypto_df = pd.DataFrame()\n",
    "    index = 0\n",
    "\n",
    "    #Only need to compute this if we aren't doing hourly\n",
    "    for d in df_copy['date'].unique():\n",
    "        #Iterate over unique dates (hours)\n",
    "        count = 0\n",
    "        maxIndex = 0\n",
    "        for idx, row in df_copy[df_copy['date'] == d].iterrows():\n",
    "            if count == 0:\n",
    "                openVal = row['open']\n",
    "\n",
    "            maxIndex = max(idx, maxIndex)\n",
    "            if maxIndex == idx:\n",
    "                closeVal = row['close']\n",
    "            count = 1\n",
    "\n",
    "\n",
    "        hour = pd.Series(data={'date': d, 'open': openVal, 'close': closeVal}, name=str(index))\n",
    "        crypto_df = crypto_df.append(hour, ignore_index=True)\n",
    "        index += 1\n",
    "    \n",
    "    crypto_df['date'] = crypto_df['date'].astype('datetime64[ns]')\n",
    "    return crypto_df"
   ]
  },
  {
   "cell_type": "code",
   "execution_count": 75,
   "id": "524c0df8-820a-4def-9efd-4186eefde7f8",
   "metadata": {},
   "outputs": [],
   "source": [
    "#Only need to do this for 12 and 6 hours, as we already have one hour close and open data\n",
    "btc_df2 = computeCloseOpenIntervals(btc_df2, 12)\n",
    "btc_df = computeCloseOpenIntervals(btc_df, 6)\n"
   ]
  },
  {
   "cell_type": "markdown",
   "id": "0aa460c4-ef52-45ae-9d43-6f49565c09bd",
   "metadata": {},
   "source": [
    "#### Calculate the difference and direction in the closing price of the interval and the opening price of the interval."
   ]
  },
  {
   "cell_type": "code",
   "execution_count": 77,
   "id": "a21919ac-3230-42ab-a8e7-4b9f4b56cf5c",
   "metadata": {
    "colab": {
     "base_uri": "https://localhost:8080/",
     "height": 419
    },
    "id": "a21919ac-3230-42ab-a8e7-4b9f4b56cf5c",
    "outputId": "c6c8d1af-5a9c-4c04-d850-3b67d0ea303e"
   },
   "outputs": [],
   "source": [
    "#Calculate diff variable, closing - open price\n",
    "\n",
    "def computeDiff(df_copy):\n",
    "    difference = []\n",
    "    direction = []\n",
    "    for index, row in df_copy.iterrows():\n",
    "        diff = row['close'] - row['open']\n",
    "        if diff >= 0:\n",
    "            direction.append(1)\n",
    "        else:\n",
    "            direction.append(0)\n",
    "    \n",
    "        difference.append(diff)\n",
    "        \n",
    "    return difference, direction\n",
    "\n",
    "diff, dire = computeDiff(btc_df)\n",
    "btc_df['diff'] = diff\n",
    "btc_df['direction'] = dire\n",
    "\n",
    "diff1, dire1 = computeDiff(btc_df1)\n",
    "btc_df1['diff'] = diff1\n",
    "btc_df1['direction'] = dire1\n",
    "\n",
    "diff2, dire2 = computeDiff(btc_df2)\n",
    "btc_df2['diff'] = diff2\n",
    "btc_df2['direction'] = dire2\n"
   ]
  },
  {
   "cell_type": "markdown",
   "id": "c170b745-b9d6-4e05-952c-347aa76529ab",
   "metadata": {},
   "source": [
    "#### Look into what the BTC data looks like:"
   ]
  },
  {
   "cell_type": "code",
   "execution_count": 78,
   "id": "691e957f-a764-46e2-a4e3-35f8ee8986c9",
   "metadata": {},
   "outputs": [
    {
     "data": {
      "text/html": [
       "<div>\n",
       "<style scoped>\n",
       "    .dataframe tbody tr th:only-of-type {\n",
       "        vertical-align: middle;\n",
       "    }\n",
       "\n",
       "    .dataframe tbody tr th {\n",
       "        vertical-align: top;\n",
       "    }\n",
       "\n",
       "    .dataframe thead th {\n",
       "        text-align: right;\n",
       "    }\n",
       "</style>\n",
       "<table border=\"1\" class=\"dataframe\">\n",
       "  <thead>\n",
       "    <tr style=\"text-align: right;\">\n",
       "      <th></th>\n",
       "      <th>close</th>\n",
       "      <th>date</th>\n",
       "      <th>open</th>\n",
       "      <th>diff</th>\n",
       "      <th>direction</th>\n",
       "    </tr>\n",
       "  </thead>\n",
       "  <tbody>\n",
       "    <tr>\n",
       "      <th>0</th>\n",
       "      <td>59646.68</td>\n",
       "      <td>2021-11-21 00:00:00</td>\n",
       "      <td>59785.85</td>\n",
       "      <td>-139.17</td>\n",
       "      <td>0</td>\n",
       "    </tr>\n",
       "    <tr>\n",
       "      <th>1</th>\n",
       "      <td>57663.13</td>\n",
       "      <td>2021-11-20 18:00:00</td>\n",
       "      <td>59522.26</td>\n",
       "      <td>-1859.13</td>\n",
       "      <td>0</td>\n",
       "    </tr>\n",
       "    <tr>\n",
       "      <th>2</th>\n",
       "      <td>58539.57</td>\n",
       "      <td>2021-11-20 12:00:00</td>\n",
       "      <td>58551.56</td>\n",
       "      <td>-11.99</td>\n",
       "      <td>0</td>\n",
       "    </tr>\n",
       "    <tr>\n",
       "      <th>3</th>\n",
       "      <td>58591.79</td>\n",
       "      <td>2021-11-20 06:00:00</td>\n",
       "      <td>58440.31</td>\n",
       "      <td>151.48</td>\n",
       "      <td>1</td>\n",
       "    </tr>\n",
       "    <tr>\n",
       "      <th>4</th>\n",
       "      <td>57850.24</td>\n",
       "      <td>2021-11-20 00:00:00</td>\n",
       "      <td>58851.45</td>\n",
       "      <td>-1001.21</td>\n",
       "      <td>0</td>\n",
       "    </tr>\n",
       "    <tr>\n",
       "      <th>...</th>\n",
       "      <td>...</td>\n",
       "      <td>...</td>\n",
       "      <td>...</td>\n",
       "      <td>...</td>\n",
       "      <td>...</td>\n",
       "    </tr>\n",
       "    <tr>\n",
       "      <th>5139</th>\n",
       "      <td>8164.79</td>\n",
       "      <td>2018-05-16 06:00:00</td>\n",
       "      <td>8232.99</td>\n",
       "      <td>-68.20</td>\n",
       "      <td>0</td>\n",
       "    </tr>\n",
       "    <tr>\n",
       "      <th>5140</th>\n",
       "      <td>8492.28</td>\n",
       "      <td>2018-05-16 00:00:00</td>\n",
       "      <td>8326.28</td>\n",
       "      <td>166.00</td>\n",
       "      <td>1</td>\n",
       "    </tr>\n",
       "    <tr>\n",
       "      <th>5141</th>\n",
       "      <td>8520.30</td>\n",
       "      <td>2018-05-15 18:00:00</td>\n",
       "      <td>8555.60</td>\n",
       "      <td>-35.30</td>\n",
       "      <td>0</td>\n",
       "    </tr>\n",
       "    <tr>\n",
       "      <th>5142</th>\n",
       "      <td>8708.32</td>\n",
       "      <td>2018-05-15 12:00:00</td>\n",
       "      <td>8759.23</td>\n",
       "      <td>-50.91</td>\n",
       "      <td>0</td>\n",
       "    </tr>\n",
       "    <tr>\n",
       "      <th>5143</th>\n",
       "      <td>8740.99</td>\n",
       "      <td>2018-05-15 06:00:00</td>\n",
       "      <td>8739.00</td>\n",
       "      <td>1.99</td>\n",
       "      <td>1</td>\n",
       "    </tr>\n",
       "  </tbody>\n",
       "</table>\n",
       "<p>5144 rows × 5 columns</p>\n",
       "</div>"
      ],
      "text/plain": [
       "         close                date      open     diff  direction\n",
       "0     59646.68 2021-11-21 00:00:00  59785.85  -139.17          0\n",
       "1     57663.13 2021-11-20 18:00:00  59522.26 -1859.13          0\n",
       "2     58539.57 2021-11-20 12:00:00  58551.56   -11.99          0\n",
       "3     58591.79 2021-11-20 06:00:00  58440.31   151.48          1\n",
       "4     57850.24 2021-11-20 00:00:00  58851.45 -1001.21          0\n",
       "...        ...                 ...       ...      ...        ...\n",
       "5139   8164.79 2018-05-16 06:00:00   8232.99   -68.20          0\n",
       "5140   8492.28 2018-05-16 00:00:00   8326.28   166.00          1\n",
       "5141   8520.30 2018-05-15 18:00:00   8555.60   -35.30          0\n",
       "5142   8708.32 2018-05-15 12:00:00   8759.23   -50.91          0\n",
       "5143   8740.99 2018-05-15 06:00:00   8739.00     1.99          1\n",
       "\n",
       "[5144 rows x 5 columns]"
      ]
     },
     "execution_count": 78,
     "metadata": {},
     "output_type": "execute_result"
    }
   ],
   "source": [
    "btc_df"
   ]
  },
  {
   "cell_type": "markdown",
   "id": "5f5d3ff8-6b65-4907-b805-4f4694ead024",
   "metadata": {},
   "source": [
    "#### Inner join the data sets based on the date"
   ]
  },
  {
   "cell_type": "code",
   "execution_count": 79,
   "id": "325c0378-d5be-4bb7-9cc4-aeaf96b22c76",
   "metadata": {
    "id": "325c0378-d5be-4bb7-9cc4-aeaf96b22c76"
   },
   "outputs": [],
   "source": [
    "btc_df['date'] = btc_df['date'].astype('datetime64[ns]')\n",
    "btc_df1['date'] = btc_df1['date'].astype('datetime64[ns]')\n",
    "btc_df2['date'] = btc_df2['date'].astype('datetime64[ns]')\n",
    "\n",
    "six_df = pd.merge(btc_df, new_df, how='inner')\n",
    "hourly_df = pd.merge(btc_df1, hourly_df, how='inner')\n",
    "twelve_df = pd.merge(btc_df2, twelve_df, how='inner')\n",
    "\n",
    "def getIndexFeature(df_copy):\n",
    "    idx = []\n",
    "    for i in range(len(df_copy)):\n",
    "        idx.append(i)\n",
    "    return idx\n",
    "\n",
    "six_df['index'] = getIndexFeature(six_df)\n",
    "hourly_df['index'] = getIndexFeature(hourly_df)\n",
    "twelve_df['index'] = getIndexFeature(twelve_df)"
   ]
  },
  {
   "cell_type": "code",
   "execution_count": 81,
   "id": "35020b0d-7c60-4acb-bd26-5182cc6e1492",
   "metadata": {},
   "outputs": [],
   "source": [
    "twelve_df1 = twelve_df.copy()\n",
    "six_df1 = six_df.copy()\n",
    "hourly_df1 = hourly_df.copy()"
   ]
  },
  {
   "cell_type": "markdown",
   "id": "4de79e1e-8cd4-4f84-9b03-6b3531f41e61",
   "metadata": {},
   "source": [
    "#### Add previous 1 time increment, 7, and 30 to each row \n",
    "\n",
    "Labeled day, week, and month for simplicity"
   ]
  },
  {
   "cell_type": "code",
   "execution_count": 82,
   "id": "16ded852-5d7e-49bf-94d8-9fa65aec6cae",
   "metadata": {},
   "outputs": [],
   "source": [
    "def computePrevSentiment(df_cop):\n",
    "    df_copy = df_cop.copy()\n",
    "    \n",
    "    w_sent_mean = df_copy['weighted_sentiment'].mean()\n",
    "    sent_mean = df_copy['sentiment'].mean()\n",
    "\n",
    "    # Add prev_day, week, and month to df\n",
    "    for idx, row in df_copy.iterrows():\n",
    "        if idx != 0:\n",
    "            df_copy.at[idx, 'prev_day_sentiment'] = df_copy['sentiment'][idx - 1]\n",
    "            df_copy.at[idx, 'w_prev_day_sentiment'] = df_copy['weighted_sentiment'][idx - 1]\n",
    "        else:\n",
    "            df_copy.at[idx, 'prev_day_sentiment'] = sent_mean\n",
    "            df_copy.at[idx, 'w_prev_day_sentiment'] = w_sent_mean\n",
    "\n",
    "\n",
    "        if idx >= 7:\n",
    "            prev_week_sent = 0\n",
    "            w_prev_week_sent = 0\n",
    "            for i in range(idx - 7, idx):\n",
    "                prev_week_sent += df_copy['sentiment'][i]\n",
    "                w_prev_week_sent += df_copy['weighted_sentiment'][i]\n",
    "\n",
    "            df_copy.at[idx, 'prev_week_sentiment'] = prev_week_sent / 7.0\n",
    "            df_copy.at[idx, 'w_prev_week_sentiment'] = w_prev_week_sent / 7.0\n",
    "        else:\n",
    "            df_copy.at[idx, 'prev_week_sentiment'] = sent_mean\n",
    "            df_copy.at[idx, 'w_prev_week_sentiment'] = w_sent_mean\n",
    "\n",
    "\n",
    "        if idx >= 30:\n",
    "            prev_month_sent = 0\n",
    "            w_prev_month_sent = 0\n",
    "            for j in range(idx - 30, idx):\n",
    "                prev_month_sent += df_copy['sentiment'][i]\n",
    "                w_prev_month_sent += df_copy['weighted_sentiment'][i]\n",
    "                \n",
    "            df_copy.at[idx, 'prev_month_sentiment'] = prev_month_sent / 30.0\n",
    "            df_copy.at[idx, 'w_prev_month_sentiment'] = w_prev_month_sent / 7.0\n",
    "\n",
    "        else:\n",
    "            df_copy.at[idx, 'prev_month_sentiment'] = sent_mean\n",
    "            df_copy.at[idx, 'w_prev_month_sentiment'] = w_sent_mean\n",
    "    return df_copy\n",
    "\n",
    "six_df = computePrevSentiment(six_df)\n",
    "hourly_df = computePrevSentiment(hourly_df)\n",
    "twelve_df = computePrevSentiment(twelve_df)"
   ]
  },
  {
   "cell_type": "code",
   "execution_count": 84,
   "id": "6641ae1a-36df-48a1-b20a-62c548ca46e7",
   "metadata": {},
   "outputs": [],
   "source": [
    "def computeChangeFeature(df_cop):\n",
    "    df_copy = df_cop.copy()\n",
    "    # If there is an positive change in sentiment, mark it as a 1.\n",
    "    # If there is a negative change in sentiment, mark it as a 0.\n",
    "    for idx, row in df_copy.iterrows():\n",
    "        if row['weighted_sentiment'] > row['w_prev_day_sentiment']:\n",
    "            df_copy.at[idx, 'day_change'] = 1\n",
    "        else:\n",
    "            df_copy.at[idx, 'day_change'] = 0\n",
    "\n",
    "        if row['weighted_sentiment'] > row['w_prev_week_sentiment']:\n",
    "            df_copy.at[idx, 'week_change'] = 1\n",
    "        else:\n",
    "            df_copy.at[idx, 'week_change'] = 0\n",
    "\n",
    "        if row['weighted_sentiment'] > row['w_prev_month_sentiment']:\n",
    "            df_copy.at[idx, 'month_change'] = 1\n",
    "        else:\n",
    "            df_copy.at[idx, 'month_change'] = 0\n",
    "    return df_copy\n",
    "\n",
    "six_df = computeChangeFeature(six_df)\n",
    "hourly_df = computeChangeFeature(hourly_df)\n",
    "twelve_df = computeChangeFeature(twelve_df)"
   ]
  },
  {
   "cell_type": "markdown",
   "id": "e0e9e6e7-ac7c-4d30-9644-43ec5e296271",
   "metadata": {},
   "source": [
    "#### Adding features on if the date of the tweet is on Friday, Monday, beginning, or end of the month\n",
    "\n",
    "We believe there is stronger inclination for bigger moves in the market on Fridays, Mondays, beginning, end of the month. End of months usually cause selloffs or rallies towards specific targets. Beginning of the month can cause rallies."
   ]
  },
  {
   "cell_type": "code",
   "execution_count": 86,
   "id": "4c65c90b-343e-4707-aeca-3b810c600377",
   "metadata": {},
   "outputs": [],
   "source": [
    "def computeRallyTime(df_copy):\n",
    "    #Constants\n",
    "    MONDAY = 0\n",
    "    FRIDAY = 4\n",
    "\n",
    "    isRallyTime = []\n",
    "\n",
    "    for date in df_copy['date']:\n",
    "        if date.weekday() == FRIDAY or date.weekday() == MONDAY:\n",
    "            isRallyTime.append(1)\n",
    "        elif date.day / date.days_in_month >= 3/4 or date.day / date.days_in_month <= 1/4:\n",
    "            isRallyTime.append(1)\n",
    "        else:\n",
    "            isRallyTime.append(0)\n",
    "    return isRallyTime\n",
    "        \n",
    "six_df['isRallyTime'] = computeRallyTime(six_df)\n",
    "hourly_df['isRallyTime'] = computeRallyTime(hourly_df)\n",
    "twelve_df['isRallyTime'] = computeRallyTime(twelve_df)"
   ]
  },
  {
   "cell_type": "markdown",
   "id": "0563b39d-0235-44a9-badc-e11f984dcb1d",
   "metadata": {},
   "source": [
    "### SFS\n",
    "\n",
    "Computation for features is complete, below is our dataset prepped for analysis"
   ]
  },
  {
   "cell_type": "code",
   "execution_count": 248,
   "id": "9bb80b70-ce62-4310-b9c2-e71a98eb8fe5",
   "metadata": {},
   "outputs": [
    {
     "data": {
      "text/html": [
       "<div>\n",
       "<style scoped>\n",
       "    .dataframe tbody tr th:only-of-type {\n",
       "        vertical-align: middle;\n",
       "    }\n",
       "\n",
       "    .dataframe tbody tr th {\n",
       "        vertical-align: top;\n",
       "    }\n",
       "\n",
       "    .dataframe thead th {\n",
       "        text-align: right;\n",
       "    }\n",
       "</style>\n",
       "<table border=\"1\" class=\"dataframe\">\n",
       "  <thead>\n",
       "    <tr style=\"text-align: right;\">\n",
       "      <th></th>\n",
       "      <th>close</th>\n",
       "      <th>date</th>\n",
       "      <th>open</th>\n",
       "      <th>diff</th>\n",
       "      <th>direction</th>\n",
       "      <th>sentiment</th>\n",
       "      <th>weighted_sentiment</th>\n",
       "      <th>influencer_score</th>\n",
       "      <th>volume</th>\n",
       "      <th>index</th>\n",
       "      <th>prev_day_sentiment</th>\n",
       "      <th>w_prev_day_sentiment</th>\n",
       "      <th>prev_week_sentiment</th>\n",
       "      <th>w_prev_week_sentiment</th>\n",
       "      <th>prev_month_sentiment</th>\n",
       "      <th>w_prev_month_sentiment</th>\n",
       "      <th>day_change</th>\n",
       "      <th>week_change</th>\n",
       "      <th>month_change</th>\n",
       "      <th>isRallyTime</th>\n",
       "    </tr>\n",
       "  </thead>\n",
       "  <tbody>\n",
       "    <tr>\n",
       "      <th>0</th>\n",
       "      <td>61044.46</td>\n",
       "      <td>2021-10-24 00:00:00</td>\n",
       "      <td>60985.52</td>\n",
       "      <td>58.94</td>\n",
       "      <td>1</td>\n",
       "      <td>0.350298</td>\n",
       "      <td>0.375087</td>\n",
       "      <td>51.220556</td>\n",
       "      <td>1847.0</td>\n",
       "      <td>0</td>\n",
       "      <td>0.368465</td>\n",
       "      <td>0.711055</td>\n",
       "      <td>0.368465</td>\n",
       "      <td>0.711055</td>\n",
       "      <td>0.368465</td>\n",
       "      <td>0.711055</td>\n",
       "      <td>0.0</td>\n",
       "      <td>0.0</td>\n",
       "      <td>0.0</td>\n",
       "      <td>1</td>\n",
       "    </tr>\n",
       "    <tr>\n",
       "      <th>1</th>\n",
       "      <td>61461.17</td>\n",
       "      <td>2021-10-23 18:00:00</td>\n",
       "      <td>60989.45</td>\n",
       "      <td>471.72</td>\n",
       "      <td>1</td>\n",
       "      <td>0.430100</td>\n",
       "      <td>0.475177</td>\n",
       "      <td>77.011235</td>\n",
       "      <td>11123.0</td>\n",
       "      <td>1</td>\n",
       "      <td>0.350298</td>\n",
       "      <td>0.375087</td>\n",
       "      <td>0.368465</td>\n",
       "      <td>0.711055</td>\n",
       "      <td>0.368465</td>\n",
       "      <td>0.711055</td>\n",
       "      <td>1.0</td>\n",
       "      <td>0.0</td>\n",
       "      <td>0.0</td>\n",
       "      <td>0</td>\n",
       "    </tr>\n",
       "    <tr>\n",
       "      <th>2</th>\n",
       "      <td>60657.24</td>\n",
       "      <td>2021-10-23 12:00:00</td>\n",
       "      <td>61364.96</td>\n",
       "      <td>-707.72</td>\n",
       "      <td>0</td>\n",
       "      <td>0.454265</td>\n",
       "      <td>0.519963</td>\n",
       "      <td>81.088917</td>\n",
       "      <td>12321.0</td>\n",
       "      <td>2</td>\n",
       "      <td>0.430100</td>\n",
       "      <td>0.475177</td>\n",
       "      <td>0.368465</td>\n",
       "      <td>0.711055</td>\n",
       "      <td>0.368465</td>\n",
       "      <td>0.711055</td>\n",
       "      <td>1.0</td>\n",
       "      <td>0.0</td>\n",
       "      <td>0.0</td>\n",
       "      <td>0</td>\n",
       "    </tr>\n",
       "    <tr>\n",
       "      <th>3</th>\n",
       "      <td>61247.06</td>\n",
       "      <td>2021-10-23 06:00:00</td>\n",
       "      <td>60885.90</td>\n",
       "      <td>361.16</td>\n",
       "      <td>1</td>\n",
       "      <td>0.436416</td>\n",
       "      <td>0.524749</td>\n",
       "      <td>61.555760</td>\n",
       "      <td>9743.0</td>\n",
       "      <td>3</td>\n",
       "      <td>0.454265</td>\n",
       "      <td>0.519963</td>\n",
       "      <td>0.368465</td>\n",
       "      <td>0.711055</td>\n",
       "      <td>0.368465</td>\n",
       "      <td>0.711055</td>\n",
       "      <td>1.0</td>\n",
       "      <td>0.0</td>\n",
       "      <td>0.0</td>\n",
       "      <td>0</td>\n",
       "    </tr>\n",
       "    <tr>\n",
       "      <th>4</th>\n",
       "      <td>60396.76</td>\n",
       "      <td>2021-10-23 00:00:00</td>\n",
       "      <td>61021.46</td>\n",
       "      <td>-624.70</td>\n",
       "      <td>0</td>\n",
       "      <td>0.375949</td>\n",
       "      <td>0.525525</td>\n",
       "      <td>108.839081</td>\n",
       "      <td>9488.0</td>\n",
       "      <td>4</td>\n",
       "      <td>0.436416</td>\n",
       "      <td>0.524749</td>\n",
       "      <td>0.368465</td>\n",
       "      <td>0.711055</td>\n",
       "      <td>0.368465</td>\n",
       "      <td>0.711055</td>\n",
       "      <td>1.0</td>\n",
       "      <td>0.0</td>\n",
       "      <td>0.0</td>\n",
       "      <td>0</td>\n",
       "    </tr>\n",
       "    <tr>\n",
       "      <th>...</th>\n",
       "      <td>...</td>\n",
       "      <td>...</td>\n",
       "      <td>...</td>\n",
       "      <td>...</td>\n",
       "      <td>...</td>\n",
       "      <td>...</td>\n",
       "      <td>...</td>\n",
       "      <td>...</td>\n",
       "      <td>...</td>\n",
       "      <td>...</td>\n",
       "      <td>...</td>\n",
       "      <td>...</td>\n",
       "      <td>...</td>\n",
       "      <td>...</td>\n",
       "      <td>...</td>\n",
       "      <td>...</td>\n",
       "      <td>...</td>\n",
       "      <td>...</td>\n",
       "      <td>...</td>\n",
       "      <td>...</td>\n",
       "    </tr>\n",
       "    <tr>\n",
       "      <th>309</th>\n",
       "      <td>39929.15</td>\n",
       "      <td>2021-02-06 12:00:00</td>\n",
       "      <td>40183.29</td>\n",
       "      <td>-254.14</td>\n",
       "      <td>0</td>\n",
       "      <td>0.287109</td>\n",
       "      <td>0.490309</td>\n",
       "      <td>109.145025</td>\n",
       "      <td>1024.0</td>\n",
       "      <td>309</td>\n",
       "      <td>0.280047</td>\n",
       "      <td>0.287379</td>\n",
       "      <td>0.363644</td>\n",
       "      <td>0.290383</td>\n",
       "      <td>0.280047</td>\n",
       "      <td>1.231625</td>\n",
       "      <td>1.0</td>\n",
       "      <td>1.0</td>\n",
       "      <td>0.0</td>\n",
       "      <td>1</td>\n",
       "    </tr>\n",
       "    <tr>\n",
       "      <th>310</th>\n",
       "      <td>39396.40</td>\n",
       "      <td>2021-02-06 06:00:00</td>\n",
       "      <td>39378.81</td>\n",
       "      <td>17.59</td>\n",
       "      <td>1</td>\n",
       "      <td>0.307179</td>\n",
       "      <td>0.317669</td>\n",
       "      <td>34.668661</td>\n",
       "      <td>599.0</td>\n",
       "      <td>310</td>\n",
       "      <td>0.287109</td>\n",
       "      <td>0.490309</td>\n",
       "      <td>0.352172</td>\n",
       "      <td>0.348003</td>\n",
       "      <td>0.287109</td>\n",
       "      <td>2.101324</td>\n",
       "      <td>0.0</td>\n",
       "      <td>0.0</td>\n",
       "      <td>0.0</td>\n",
       "      <td>1</td>\n",
       "    </tr>\n",
       "    <tr>\n",
       "      <th>311</th>\n",
       "      <td>37861.99</td>\n",
       "      <td>2021-02-06 00:00:00</td>\n",
       "      <td>38858.47</td>\n",
       "      <td>-996.48</td>\n",
       "      <td>0</td>\n",
       "      <td>0.266369</td>\n",
       "      <td>0.266369</td>\n",
       "      <td>49.756510</td>\n",
       "      <td>672.0</td>\n",
       "      <td>311</td>\n",
       "      <td>0.307179</td>\n",
       "      <td>0.317669</td>\n",
       "      <td>0.353377</td>\n",
       "      <td>0.350706</td>\n",
       "      <td>0.307179</td>\n",
       "      <td>1.361440</td>\n",
       "      <td>0.0</td>\n",
       "      <td>0.0</td>\n",
       "      <td>0.0</td>\n",
       "      <td>1</td>\n",
       "    </tr>\n",
       "    <tr>\n",
       "      <th>312</th>\n",
       "      <td>38000.00</td>\n",
       "      <td>2021-02-05 18:00:00</td>\n",
       "      <td>37665.76</td>\n",
       "      <td>334.24</td>\n",
       "      <td>1</td>\n",
       "      <td>0.261072</td>\n",
       "      <td>0.301954</td>\n",
       "      <td>63.869608</td>\n",
       "      <td>858.0</td>\n",
       "      <td>312</td>\n",
       "      <td>0.266369</td>\n",
       "      <td>0.266369</td>\n",
       "      <td>0.345172</td>\n",
       "      <td>0.371198</td>\n",
       "      <td>0.266369</td>\n",
       "      <td>1.141582</td>\n",
       "      <td>1.0</td>\n",
       "      <td>0.0</td>\n",
       "      <td>0.0</td>\n",
       "      <td>1</td>\n",
       "    </tr>\n",
       "    <tr>\n",
       "      <th>313</th>\n",
       "      <td>37301.38</td>\n",
       "      <td>2021-02-05 12:00:00</td>\n",
       "      <td>38335.74</td>\n",
       "      <td>-1034.36</td>\n",
       "      <td>0</td>\n",
       "      <td>0.319471</td>\n",
       "      <td>0.327535</td>\n",
       "      <td>57.039307</td>\n",
       "      <td>529.0</td>\n",
       "      <td>313</td>\n",
       "      <td>0.261072</td>\n",
       "      <td>0.301954</td>\n",
       "      <td>0.313081</td>\n",
       "      <td>0.345933</td>\n",
       "      <td>0.261072</td>\n",
       "      <td>1.294090</td>\n",
       "      <td>1.0</td>\n",
       "      <td>0.0</td>\n",
       "      <td>0.0</td>\n",
       "      <td>1</td>\n",
       "    </tr>\n",
       "  </tbody>\n",
       "</table>\n",
       "<p>314 rows × 20 columns</p>\n",
       "</div>"
      ],
      "text/plain": [
       "        close                date      open     diff  direction  sentiment  \\\n",
       "0    61044.46 2021-10-24 00:00:00  60985.52    58.94          1   0.350298   \n",
       "1    61461.17 2021-10-23 18:00:00  60989.45   471.72          1   0.430100   \n",
       "2    60657.24 2021-10-23 12:00:00  61364.96  -707.72          0   0.454265   \n",
       "3    61247.06 2021-10-23 06:00:00  60885.90   361.16          1   0.436416   \n",
       "4    60396.76 2021-10-23 00:00:00  61021.46  -624.70          0   0.375949   \n",
       "..        ...                 ...       ...      ...        ...        ...   \n",
       "309  39929.15 2021-02-06 12:00:00  40183.29  -254.14          0   0.287109   \n",
       "310  39396.40 2021-02-06 06:00:00  39378.81    17.59          1   0.307179   \n",
       "311  37861.99 2021-02-06 00:00:00  38858.47  -996.48          0   0.266369   \n",
       "312  38000.00 2021-02-05 18:00:00  37665.76   334.24          1   0.261072   \n",
       "313  37301.38 2021-02-05 12:00:00  38335.74 -1034.36          0   0.319471   \n",
       "\n",
       "     weighted_sentiment  influencer_score   volume  index  prev_day_sentiment  \\\n",
       "0              0.375087         51.220556   1847.0      0            0.368465   \n",
       "1              0.475177         77.011235  11123.0      1            0.350298   \n",
       "2              0.519963         81.088917  12321.0      2            0.430100   \n",
       "3              0.524749         61.555760   9743.0      3            0.454265   \n",
       "4              0.525525        108.839081   9488.0      4            0.436416   \n",
       "..                  ...               ...      ...    ...                 ...   \n",
       "309            0.490309        109.145025   1024.0    309            0.280047   \n",
       "310            0.317669         34.668661    599.0    310            0.287109   \n",
       "311            0.266369         49.756510    672.0    311            0.307179   \n",
       "312            0.301954         63.869608    858.0    312            0.266369   \n",
       "313            0.327535         57.039307    529.0    313            0.261072   \n",
       "\n",
       "     w_prev_day_sentiment  prev_week_sentiment  w_prev_week_sentiment  \\\n",
       "0                0.711055             0.368465               0.711055   \n",
       "1                0.375087             0.368465               0.711055   \n",
       "2                0.475177             0.368465               0.711055   \n",
       "3                0.519963             0.368465               0.711055   \n",
       "4                0.524749             0.368465               0.711055   \n",
       "..                    ...                  ...                    ...   \n",
       "309              0.287379             0.363644               0.290383   \n",
       "310              0.490309             0.352172               0.348003   \n",
       "311              0.317669             0.353377               0.350706   \n",
       "312              0.266369             0.345172               0.371198   \n",
       "313              0.301954             0.313081               0.345933   \n",
       "\n",
       "     prev_month_sentiment  w_prev_month_sentiment  day_change  week_change  \\\n",
       "0                0.368465                0.711055         0.0          0.0   \n",
       "1                0.368465                0.711055         1.0          0.0   \n",
       "2                0.368465                0.711055         1.0          0.0   \n",
       "3                0.368465                0.711055         1.0          0.0   \n",
       "4                0.368465                0.711055         1.0          0.0   \n",
       "..                    ...                     ...         ...          ...   \n",
       "309              0.280047                1.231625         1.0          1.0   \n",
       "310              0.287109                2.101324         0.0          0.0   \n",
       "311              0.307179                1.361440         0.0          0.0   \n",
       "312              0.266369                1.141582         1.0          0.0   \n",
       "313              0.261072                1.294090         1.0          0.0   \n",
       "\n",
       "     month_change  isRallyTime  \n",
       "0             0.0            1  \n",
       "1             0.0            0  \n",
       "2             0.0            0  \n",
       "3             0.0            0  \n",
       "4             0.0            0  \n",
       "..            ...          ...  \n",
       "309           0.0            1  \n",
       "310           0.0            1  \n",
       "311           0.0            1  \n",
       "312           0.0            1  \n",
       "313           0.0            1  \n",
       "\n",
       "[314 rows x 20 columns]"
      ]
     },
     "execution_count": 248,
     "metadata": {},
     "output_type": "execute_result"
    }
   ],
   "source": [
    "six_df"
   ]
  },
  {
   "cell_type": "code",
   "execution_count": 240,
   "id": "0930e849-0e52-4d83-98c1-4e3460e13e82",
   "metadata": {},
   "outputs": [
    {
     "name": "stdout",
     "output_type": "stream",
     "text": [
      "Requirement already satisfied: mlxtend in /Users/ajvalenty/opt/anaconda3/lib/python3.8/site-packages (0.19.0)\n",
      "Requirement already satisfied: scipy>=1.2.1 in /Users/ajvalenty/opt/anaconda3/lib/python3.8/site-packages (from mlxtend) (1.6.2)\n",
      "Requirement already satisfied: joblib>=0.13.2 in /Users/ajvalenty/opt/anaconda3/lib/python3.8/site-packages (from mlxtend) (1.1.0)\n",
      "Requirement already satisfied: setuptools in /Users/ajvalenty/opt/anaconda3/lib/python3.8/site-packages (from mlxtend) (52.0.0.post20210125)\n",
      "Requirement already satisfied: pandas>=0.24.2 in /Users/ajvalenty/opt/anaconda3/lib/python3.8/site-packages (from mlxtend) (1.2.4)\n",
      "Requirement already satisfied: scikit-learn>=0.20.3 in /Users/ajvalenty/opt/anaconda3/lib/python3.8/site-packages (from mlxtend) (0.24.1)\n",
      "Requirement already satisfied: numpy>=1.16.2 in /Users/ajvalenty/opt/anaconda3/lib/python3.8/site-packages (from mlxtend) (1.20.1)\n",
      "Requirement already satisfied: matplotlib>=3.0.0 in /Users/ajvalenty/opt/anaconda3/lib/python3.8/site-packages (from mlxtend) (3.3.4)\n",
      "Requirement already satisfied: cycler>=0.10 in /Users/ajvalenty/opt/anaconda3/lib/python3.8/site-packages (from matplotlib>=3.0.0->mlxtend) (0.10.0)\n",
      "Requirement already satisfied: kiwisolver>=1.0.1 in /Users/ajvalenty/opt/anaconda3/lib/python3.8/site-packages (from matplotlib>=3.0.0->mlxtend) (1.3.1)\n",
      "Requirement already satisfied: pyparsing!=2.0.4,!=2.1.2,!=2.1.6,>=2.0.3 in /Users/ajvalenty/opt/anaconda3/lib/python3.8/site-packages (from matplotlib>=3.0.0->mlxtend) (2.4.7)\n",
      "Requirement already satisfied: python-dateutil>=2.1 in /Users/ajvalenty/opt/anaconda3/lib/python3.8/site-packages (from matplotlib>=3.0.0->mlxtend) (2.8.1)\n",
      "Requirement already satisfied: pillow>=6.2.0 in /Users/ajvalenty/opt/anaconda3/lib/python3.8/site-packages (from matplotlib>=3.0.0->mlxtend) (8.2.0)\n",
      "Requirement already satisfied: six in /Users/ajvalenty/opt/anaconda3/lib/python3.8/site-packages (from cycler>=0.10->matplotlib>=3.0.0->mlxtend) (1.15.0)\n",
      "Requirement already satisfied: pytz>=2017.3 in /Users/ajvalenty/opt/anaconda3/lib/python3.8/site-packages (from pandas>=0.24.2->mlxtend) (2021.1)\n",
      "Requirement already satisfied: threadpoolctl>=2.0.0 in /Users/ajvalenty/opt/anaconda3/lib/python3.8/site-packages (from scikit-learn>=0.20.3->mlxtend) (2.1.0)\n",
      "Requirement already satisfied: joblib in /Users/ajvalenty/opt/anaconda3/lib/python3.8/site-packages (1.1.0)\n",
      "Requirement already satisfied: sklearn in /Users/ajvalenty/opt/anaconda3/lib/python3.8/site-packages (0.0)\n",
      "Requirement already satisfied: scikit-learn in /Users/ajvalenty/opt/anaconda3/lib/python3.8/site-packages (from sklearn) (0.24.1)\n",
      "Requirement already satisfied: joblib>=0.11 in /Users/ajvalenty/opt/anaconda3/lib/python3.8/site-packages (from scikit-learn->sklearn) (1.1.0)\n",
      "Requirement already satisfied: numpy>=1.13.3 in /Users/ajvalenty/opt/anaconda3/lib/python3.8/site-packages (from scikit-learn->sklearn) (1.20.1)\n",
      "Requirement already satisfied: threadpoolctl>=2.0.0 in /Users/ajvalenty/opt/anaconda3/lib/python3.8/site-packages (from scikit-learn->sklearn) (2.1.0)\n",
      "Requirement already satisfied: scipy>=0.19.1 in /Users/ajvalenty/opt/anaconda3/lib/python3.8/site-packages (from scikit-learn->sklearn) (1.6.2)\n",
      "Requirement already satisfied: joblib in /Users/ajvalenty/opt/anaconda3/lib/python3.8/site-packages (1.1.0)\n"
     ]
    }
   ],
   "source": [
    "# install mlxtend if you haven't installed one before\n",
    "! pip install mlxtend\n",
    "! pip install joblib\n",
    "! pip install sklearn --upgrade\n",
    "! pip install joblib --upgrade\n",
    "import joblib\n",
    "import mlxtend"
   ]
  },
  {
   "cell_type": "code",
   "execution_count": 245,
   "id": "abc271c6-2243-48f9-9353-0dbfb32a2481",
   "metadata": {},
   "outputs": [
    {
     "data": {
      "image/png": "[encoded data removed]",
      "text/plain": [
       "<Figure size 432x288 with 1 Axes>"
      ]
     },
     "metadata": {
      "needs_background": "light"
     },
     "output_type": "display_data"
    }
   ],
   "source": [
    "# Import sequenctial features selector as SFS\n",
    "from mlxtend.feature_selection import SequentialFeatureSelector as SFS\n",
    "from mlxtend.plotting import plot_sequential_feature_selection as plot_sfs\n",
    "\n",
    "#Forward feature selector\n",
    "six_hour_MA = model_analysis(six_df)\n",
    "\n",
    "lr = LogisticRegression()\n",
    "sfs = SFS(lr, k_features=(1,12), forward=True, scoring='neg_mean_absolute_error', cv=3, n_jobs=-1)\n",
    "\n",
    "sfs = sfs.fit(six_hour_MA.cX_train, six_hour_MA.cy_train)\n",
    "\n",
    "fig = plot_sfs(sfs.get_metric_dict(), kind='std_err')\n",
    "\n",
    "plt.title('Sequential Forward Selection (w. StdErr)')\n",
    "plt.grid()\n",
    "plt.show()"
   ]
  },
  {
   "cell_type": "markdown",
   "id": "e7546249-fd8b-45a5-bd23-f51fef65a8c6",
   "metadata": {},
   "source": [
    "#### Performance looked better with less features, but because we had spoken with Dr. Sano about adding more features, we decided to stick with the 12 we have."
   ]
  },
  {
   "cell_type": "code",
   "execution_count": 97,
   "id": "b4a5c605-59d8-4a9d-9193-7aca16da6368",
   "metadata": {},
   "outputs": [
    {
     "data": {
      "text/plain": [
       "<AxesSubplot:title={'center':'BTC Price Over Time'}, xlabel='date'>"
      ]
     },
     "execution_count": 97,
     "metadata": {},
     "output_type": "execute_result"
    },
    {
     "data": {
      "image/png": "[encoded data removed]",
      "text/plain": [
       "<Figure size 576x288 with 1 Axes>"
      ]
     },
     "metadata": {
      "needs_background": "light"
     },
     "output_type": "display_data"
    },
    {
     "data": {
      "image/png": "[encoded data removed]",
      "text/plain": [
       "<Figure size 576x288 with 1 Axes>"
      ]
     },
     "metadata": {
      "needs_background": "light"
     },
     "output_type": "display_data"
    },
    {
     "data": {
      "image/png": "[encoded data removed]",
      "text/plain": [
       "<Figure size 576x288 with 1 Axes>"
      ]
     },
     "metadata": {
      "needs_background": "light"
     },
     "output_type": "display_data"
    }
   ],
   "source": [
    "six_df.plot.line('date', 'sentiment', figsize=(8,4), title='Sentiment over Time') \n",
    "six_df.plot.line('date', 'diff', figsize=(8,4), title='Difference in Time Segments over Time') \n",
    "six_df.plot.line('date', 'close', figsize=(8,4), title='BTC Price Over Time')"
   ]
  },
  {
   "cell_type": "markdown",
   "id": "363fdbd0-3078-4b49-9fa6-62b972cb0478",
   "metadata": {},
   "source": [
    "## Modeling: Linear, Polynomial, Logistic, and LSTM\n",
    "\n",
    "Now, we will look at some models and evaluate their effectiveness"
   ]
  },
  {
   "cell_type": "code",
   "execution_count": 98,
   "id": "t16ACAZJA5dk",
   "metadata": {
    "id": "t16ACAZJA5dk"
   },
   "outputs": [],
   "source": [
    "six_df['date'] = six_df['date'].astype('string')\n",
    "six_df['date'] = pd.to_datetime(six_df['date'])\n",
    "\n",
    "hourly_df['date'] = hourly_df['date'].astype('string')\n",
    "hourly_df['date'] = pd.to_datetime(hourly_df['date'])\n",
    "\n",
    "twelve_df['date'] = twelve_df['date'].astype('string')\n",
    "twelve_df['date'] = pd.to_datetime(twelve_df['date'])"
   ]
  },
  {
   "cell_type": "markdown",
   "id": "d7a9b29e-7f4b-40b3-bc0d-ec701d6ec925",
   "metadata": {},
   "source": [
    "### Class structure: efficient modularity for the amount of dataframes and models we need to run"
   ]
  },
  {
   "cell_type": "code",
   "execution_count": 127,
   "id": "b2a1345b-8c9e-4c4c-afaa-4e2f61862d18",
   "metadata": {},
   "outputs": [],
   "source": [
    "from sklearn.model_selection import train_test_split\n",
    "from sklearn.linear_model import LinearRegression\n",
    "from sklearn.preprocessing import PolynomialFeatures\n",
    "from sklearn.linear_model import LogisticRegression\n",
    "import seaborn as sns\n",
    "import numpy as np\n",
    "%matplotlib inline\n",
    "from sklearn import metrics\n",
    "\n",
    "\n",
    "class model_analysis:\n",
    "    def __init__(self, df):\n",
    "        self.df = df\n",
    "        self.features = df[['sentiment', 'weighted_sentiment', 'w_prev_day_sentiment', 'w_prev_week_sentiment', 'w_prev_month_sentiment', 'prev_day_sentiment', 'prev_week_sentiment', 'prev_month_sentiment', 'week_change', 'day_change', 'month_change', 'isRallyTime']]\n",
    "        self.close_label = df[['close']]\n",
    "        self.direction_label = df[['direction']]\n",
    "        self.cX_train, self.cX_test, self.cy_train, self.cy_test = self.train_test(self.features, self.direction_label)\n",
    "        self.X_train, self.X_test, self.y_train, self.y_test = self.train_test(self.features, self.close_label)\n",
    "        self.logreg = None\n",
    "        \n",
    "    def train_test(self, features, label):\n",
    "        return train_test_split(features, label, test_size=0.25, random_state=0)\n",
    "    \n",
    "    def linearRegression(self, xtrain, ytrain, xtest, ytest):\n",
    "        reg = LinearRegression().fit(xtrain, ytrain)\n",
    "        return reg.score(xtest, ytest)\n",
    "    \n",
    "    def polynomialRegression(self, xtrain, ytrain, xtest, ytest, deg=3):\n",
    "        # Fitting Polynomial Regression to the dataset\n",
    "        poly_reg = PolynomialFeatures(degree=3)\n",
    "        X_poly_train = poly_reg.fit_transform(xtrain)\n",
    "        pol_reg = LinearRegression()\n",
    "        pol_reg.fit(X_poly_train, ytrain)\n",
    "\n",
    "        X_poly_test = poly_reg.fit_transform(xtest)\n",
    "        return pol_reg.score(X_poly_test, ytest)\n",
    "    \n",
    "    def logisticRegression(self, xtrain, ytrain, xtest, ytest):\n",
    "        self.logreg = LogisticRegression()\n",
    "        self.logreg.fit(xtrain, ytrain.values.ravel())\n",
    "        y_pred = self.logreg.predict(xtest)\n",
    "        y_train_pred = self.logreg.predict(xtrain)\n",
    "        \n",
    "        print(\"On Test Data\")\n",
    "        print(\"Accuracy:\",metrics.accuracy_score(ytest, y_pred))\n",
    "        print(\"Precision:\",metrics.precision_score(ytest, y_pred))\n",
    "        print(\"Recall:\",metrics.recall_score(ytest, y_pred))\n",
    "\n",
    "\n",
    "        print(\"\\nOn Training Data, just to see for potential overfitting\")\n",
    "        print(\"Accuracy:\",metrics.accuracy_score(ytrain, y_train_pred))\n",
    "        print(\"Precision:\",metrics.precision_score(ytrain, y_train_pred))\n",
    "        print(\"Recall:\",metrics.recall_score(ytrain, y_train_pred))\n",
    "        \n",
    "        return y_pred\n",
    "    \n",
    "    def computeConfusionMatrix(self, y_pred, y_test):\n",
    "        cnf_matrix = metrics.confusion_matrix(y_test, y_pred)\n",
    "        class_names=[0,1] # name  of classes\n",
    "        fig, ax = plt.subplots()\n",
    "        tick_marks = np.arange(len(class_names))\n",
    "        plt.xticks(tick_marks, class_names)\n",
    "        plt.yticks(tick_marks, class_names)\n",
    "        # create heatmap\n",
    "        sns.heatmap(pd.DataFrame(cnf_matrix), annot=True, cmap=\"YlGnBu\" ,fmt='g')\n",
    "        ax.xaxis.set_label_position(\"top\")\n",
    "        plt.tight_layout()\n",
    "        plt.title('Confusion matrix', y=1.1)\n",
    "        plt.ylabel('Actual label')\n",
    "        plt.xlabel('Predicted label')\n",
    "    \n",
    "    def computeROC(self):\n",
    "        y_pred_proba = self.logreg.predict_proba(self.cX_test)[::,1]\n",
    "        fpr, tpr, _ = metrics.roc_curve(self.cy_test,  y_pred_proba)\n",
    "        auc = metrics.roc_auc_score(self.cy_test, y_pred_proba)\n",
    "        plt.plot(fpr,tpr,label=\"data 1, auc=\"+str(auc))\n",
    "        plt.legend(loc=4)\n",
    "        plt.title('ROC Curve')\n",
    "        plt.show()\n",
    "\n",
    "\n",
    "        \n",
    "    "
   ]
  },
  {
   "cell_type": "markdown",
   "id": "37e55337-c3af-46b4-a2bc-d687cb8ccdee",
   "metadata": {},
   "source": [
    "### 6 hour interval Linear, Polynomial, and Logistic Regression"
   ]
  },
  {
   "cell_type": "code",
   "execution_count": 129,
   "id": "4a025dc6-74fd-4a2f-ab77-69cf9ac34554",
   "metadata": {},
   "outputs": [
    {
     "data": {
      "text/plain": [
       "0.10727786392175309"
      ]
     },
     "execution_count": 129,
     "metadata": {},
     "output_type": "execute_result"
    }
   ],
   "source": [
    "six_hour_MA.linearRegression(six_hour_MA.X_train, six_hour_MA.y_train, six_hour_MA.X_test, six_hour_MA.y_test)"
   ]
  },
  {
   "cell_type": "code",
   "execution_count": 130,
   "id": "9b9616a1-9431-47d9-b950-aa392f6078fd",
   "metadata": {},
   "outputs": [
    {
     "data": {
      "text/plain": [
       "-10194463935.203163"
      ]
     },
     "execution_count": 130,
     "metadata": {},
     "output_type": "execute_result"
    }
   ],
   "source": [
    "six_hour_MA.polynomialRegression(six_hour_MA.X_train, six_hour_MA.y_train, six_hour_MA.X_test, six_hour_MA.y_test)"
   ]
  },
  {
   "cell_type": "code",
   "execution_count": 131,
   "id": "f3d0dc64-63e7-4ed4-b86e-61975e52065c",
   "metadata": {},
   "outputs": [
    {
     "name": "stdout",
     "output_type": "stream",
     "text": [
      "On Test Data\n",
      "Accuracy: 0.5569620253164557\n",
      "Precision: 0.42857142857142855\n",
      "Recall: 0.3870967741935484\n",
      "\n",
      "On Training Data, just to see for potential overfitting\n",
      "Accuracy: 0.5531914893617021\n",
      "Precision: 0.5444444444444444\n",
      "Recall: 0.4336283185840708\n"
     ]
    }
   ],
   "source": [
    "prediction = six_hour_MA.logisticRegression(six_hour_MA.cX_train, six_hour_MA.cy_train, six_hour_MA.cX_test, six_hour_MA.cy_test)"
   ]
  },
  {
   "cell_type": "code",
   "execution_count": 132,
   "id": "38ae194c-885c-4ae2-9bab-ef962b2e4fab",
   "metadata": {},
   "outputs": [
    {
     "data": {
      "image/png": "[encoded data removed]",
      "text/plain": [
       "<Figure size 432x288 with 2 Axes>"
      ]
     },
     "metadata": {
      "needs_background": "light"
     },
     "output_type": "display_data"
    }
   ],
   "source": [
    "six_hour_MA.computeConfusionMatrix(prediction, six_hour_MA.cy_test)"
   ]
  },
  {
   "cell_type": "code",
   "execution_count": 133,
   "id": "3dcfc83e-9e81-4154-a342-b97567c0a5c8",
   "metadata": {},
   "outputs": [
    {
     "data": {
      "image/png": "[encoded data removed]",
      "text/plain": [
       "<Figure size 432x288 with 1 Axes>"
      ]
     },
     "metadata": {
      "needs_background": "light"
     },
     "output_type": "display_data"
    }
   ],
   "source": [
    "six_hour_MA.computeROC()"
   ]
  },
  {
   "cell_type": "markdown",
   "id": "c452d072-fa97-4544-b29b-85097b39b781",
   "metadata": {},
   "source": [
    "### Hourly interval Linear, Polynomial, and Logistic Regression"
   ]
  },
  {
   "cell_type": "code",
   "execution_count": 135,
   "id": "17ec0780-308d-4e73-ad3f-5cb80a4ce840",
   "metadata": {},
   "outputs": [
    {
     "data": {
      "text/plain": [
       "0.1603325129538118"
      ]
     },
     "execution_count": 135,
     "metadata": {},
     "output_type": "execute_result"
    }
   ],
   "source": [
    "hourly_MA = model_analysis(hourly_df)\n",
    "\n",
    "hourly_MA.linearRegression(hourly_MA.X_train, hourly_MA.y_train, hourly_MA.X_test, hourly_MA.y_test)"
   ]
  },
  {
   "cell_type": "code",
   "execution_count": 136,
   "id": "6c0d8479-7bf3-4879-8b50-f5ba47adf192",
   "metadata": {},
   "outputs": [
    {
     "data": {
      "text/plain": [
       "-11.08971844508644"
      ]
     },
     "execution_count": 136,
     "metadata": {},
     "output_type": "execute_result"
    }
   ],
   "source": [
    "hourly_MA.polynomialRegression(hourly_MA.X_train, hourly_MA.y_train, hourly_MA.X_test, hourly_MA.y_test)"
   ]
  },
  {
   "cell_type": "code",
   "execution_count": 137,
   "id": "d61a420c-e361-4c4a-a312-0abdf1608043",
   "metadata": {},
   "outputs": [
    {
     "name": "stdout",
     "output_type": "stream",
     "text": [
      "On Test Data\n",
      "Accuracy: 0.4988814317673378\n",
      "Precision: 0.5226480836236934\n",
      "Recall: 0.6329113924050633\n",
      "\n",
      "On Training Data, just to see for potential overfitting\n",
      "Accuracy: 0.5343796711509716\n",
      "Precision: 0.5337915234822451\n",
      "Recall: 0.6832844574780058\n"
     ]
    },
    {
     "name": "stderr",
     "output_type": "stream",
     "text": [
      "/Users/ajvalenty/opt/anaconda3/lib/python3.8/site-packages/sklearn/linear_model/_logistic.py:763: ConvergenceWarning: lbfgs failed to converge (status=1):\n",
      "STOP: TOTAL NO. of ITERATIONS REACHED LIMIT.\n",
      "\n",
      "Increase the number of iterations (max_iter) or scale the data as shown in:\n",
      "    https://scikit-learn.org/stable/modules/preprocessing.html\n",
      "Please also refer to the documentation for alternative solver options:\n",
      "    https://scikit-learn.org/stable/modules/linear_model.html#logistic-regression\n",
      "  n_iter_i = _check_optimize_result(\n"
     ]
    }
   ],
   "source": [
    "prediction = hourly_MA.logisticRegression(hourly_MA.cX_train, hourly_MA.cy_train, hourly_MA.cX_test, hourly_MA.cy_test)"
   ]
  },
  {
   "cell_type": "code",
   "execution_count": 138,
   "id": "66f1c014-be36-4612-a246-a8a5d0d0364c",
   "metadata": {},
   "outputs": [
    {
     "data": {
      "image/png": "[encoded data removed]",
      "text/plain": [
       "<Figure size 432x288 with 2 Axes>"
      ]
     },
     "metadata": {
      "needs_background": "light"
     },
     "output_type": "display_data"
    }
   ],
   "source": [
    "hourly_MA.computeConfusionMatrix(prediction, hourly_MA.cy_test)"
   ]
  },
  {
   "cell_type": "code",
   "execution_count": 139,
   "id": "c8bb3b75-7092-4e58-b68d-fb5c6cf6373a",
   "metadata": {},
   "outputs": [
    {
     "data": {
      "image/png": "[encoded data removed]",
      "text/plain": [
       "<Figure size 432x288 with 1 Axes>"
      ]
     },
     "metadata": {
      "needs_background": "light"
     },
     "output_type": "display_data"
    }
   ],
   "source": [
    "hourly_MA.computeROC()"
   ]
  },
  {
   "cell_type": "markdown",
   "id": "5b28b7d2-ee1c-4cc5-93ed-154b910c268e",
   "metadata": {},
   "source": [
    "### 12 Hour Interval Linear, Polynomial, and Logistic Regression"
   ]
  },
  {
   "cell_type": "code",
   "execution_count": 140,
   "id": "8e2a0872-4700-400e-8d42-e318458151e0",
   "metadata": {},
   "outputs": [
    {
     "data": {
      "text/plain": [
       "0.23843916345052485"
      ]
     },
     "execution_count": 140,
     "metadata": {},
     "output_type": "execute_result"
    }
   ],
   "source": [
    "twelve_MA = model_analysis(twelve_df)\n",
    "\n",
    "twelve_MA.linearRegression(twelve_MA.X_train, twelve_MA.y_train, twelve_MA.X_test, twelve_MA.y_test)"
   ]
  },
  {
   "cell_type": "code",
   "execution_count": 142,
   "id": "5fb29b7d-e557-4698-a210-585e6b149776",
   "metadata": {},
   "outputs": [
    {
     "data": {
      "text/plain": [
       "-9219.37090248611"
      ]
     },
     "execution_count": 142,
     "metadata": {},
     "output_type": "execute_result"
    }
   ],
   "source": [
    "twelve_MA.polynomialRegression(twelve_MA.X_train, twelve_MA.y_train, twelve_MA.X_test, twelve_MA.y_test)"
   ]
  },
  {
   "cell_type": "code",
   "execution_count": 144,
   "id": "d38fa4be-9e23-4f90-93b8-b14b92877f69",
   "metadata": {},
   "outputs": [
    {
     "name": "stdout",
     "output_type": "stream",
     "text": [
      "On Test Data\n",
      "Accuracy: 0.35714285714285715\n",
      "Precision: 0.391304347826087\n",
      "Recall: 0.4090909090909091\n",
      "\n",
      "On Training Data, just to see for potential overfitting\n",
      "Accuracy: 0.5447154471544715\n",
      "Precision: 0.5384615384615384\n",
      "Recall: 0.5737704918032787\n"
     ]
    }
   ],
   "source": [
    "prediction = twelve_MA.logisticRegression(twelve_MA.cX_train, twelve_MA.cy_train, twelve_MA.cX_test, twelve_MA.cy_test)"
   ]
  },
  {
   "cell_type": "code",
   "execution_count": 145,
   "id": "f7506291-d37a-42ae-a8c6-359fc7573b8d",
   "metadata": {},
   "outputs": [
    {
     "data": {
      "image/png": "[encoded data removed]",
      "text/plain": [
       "<Figure size 432x288 with 2 Axes>"
      ]
     },
     "metadata": {
      "needs_background": "light"
     },
     "output_type": "display_data"
    }
   ],
   "source": [
    "twelve_MA.computeConfusionMatrix(prediction, twelve_MA.cy_test)"
   ]
  },
  {
   "cell_type": "code",
   "execution_count": 146,
   "id": "0cda01fa-1e60-4342-9c45-c12e96e88e1e",
   "metadata": {},
   "outputs": [
    {
     "data": {
      "image/png": "[encoded data removed]",
      "text/plain": [
       "<Figure size 432x288 with 1 Axes>"
      ]
     },
     "metadata": {
      "needs_background": "light"
     },
     "output_type": "display_data"
    }
   ],
   "source": [
    "twelve_MA.computeROC()"
   ]
  },
  {
   "cell_type": "markdown",
   "id": "2299bc28-b9c0-453d-aae2-999fd84fbd63",
   "metadata": {},
   "source": [
    "#### Linear and Polynomial Regression are obviously very inaccurate, this makes sense. We just wanted to see what the score would look like. We are mainly focused on Logistic Regression and LSTM."
   ]
  },
  {
   "cell_type": "markdown",
   "id": "eb7135dc-8da3-40ab-9a99-f62ba55956c7",
   "metadata": {},
   "source": [
    "#### For Logistic Regression, accuracy is okay, where 6 hourly performance the best for the Logistic Regression with an accuracy of 0.56.\n",
    "\n",
    "We would've expected a better result for 12 hour, but our dataset is quite small for 12 hour- this is likely a factor."
   ]
  },
  {
   "cell_type": "markdown",
   "id": "bb98444a-b63b-48c0-9493-7356c9bbf4d6",
   "metadata": {},
   "source": [
    "## LSTM Model: Computing Price Prediction"
   ]
  },
  {
   "cell_type": "code",
   "execution_count": 226,
   "id": "47a4788f-b88c-4310-94d6-4790e5c9f7e0",
   "metadata": {},
   "outputs": [],
   "source": [
    "#Used this tutorial for LSTM: https://towardsdatascience.com/single-and-multi-step-temperature-time-series-forecasting-for-vilnius-using-lstm-deep-learning-b9719a0009de\n",
    "\n",
    "def transformLSTMData(inputData, lag, n_ahead, target_index=0):\n",
    "\n",
    "    # Extracting the number of features that are passed from the array \n",
    "    n_features = inputData.shape[1]\n",
    "    \n",
    "    X, Y = [], []\n",
    "\n",
    "    if len(inputData) - lag <= 0:\n",
    "        X.append(inputData)\n",
    "    else:\n",
    "        for i in range(len(inputData) - lag - n_ahead):\n",
    "            Y.append(inputData[(i + lag):(i + lag + n_ahead), target_index])\n",
    "            X.append(inputData[i:(i + lag)])\n",
    "\n",
    "    X, Y = np.array(X), np.array(Y)\n",
    "\n",
    "    # Reshaping the X array to an RNN input shape \n",
    "    X = np.reshape(X, (X.shape[0], lag, n_features))\n",
    "\n",
    "    return X, Y"
   ]
  },
  {
   "cell_type": "markdown",
   "id": "95e87522-db29-4d82-b6e3-7e1ca2c0347c",
   "metadata": {},
   "source": [
    "### Definitions of variables"
   ]
  },
  {
   "cell_type": "code",
   "execution_count": 203,
   "id": "6da13466-5b64-49ae-91ac-5f1a5f8e1861",
   "metadata": {},
   "outputs": [],
   "source": [
    "# # of time intervals back to use for models\n",
    "lag = 20\n",
    "\n",
    "# Steps ahead to forecast \n",
    "forecast = outputs = 1\n",
    "\n",
    "# Epochs for training\n",
    "epochs = 40\n",
    "\n",
    "# Batch size \n",
    "batch_size = 28"
   ]
  },
  {
   "cell_type": "code",
   "execution_count": 218,
   "id": "079405d9-8850-44d3-946d-e16647a502e3",
   "metadata": {},
   "outputs": [],
   "source": [
    "import tensorflow as tf\n",
    "import keras\n",
    "from keras.layers import Dense, Input, Dropout, LSTM\n",
    "from keras.models import Model\n",
    "from tensorflow.keras.optimizers import Adam\n",
    "from tensorflow import keras\n",
    "from tensorflow.keras import layers\n",
    "from keras import losses\n",
    "from keras.callbacks import ModelCheckpoint, EarlyStopping\n",
    "\n",
    "#Class for modularity and ease of using our multiple dataframes\n",
    "class LSTMModel:\n",
    "    def __init__(self, X_train, y_train, X_val, y_val, shape):\n",
    "        self.X_train = X_train\n",
    "        self.y_train = y_train\n",
    "        self.X_val = X_val\n",
    "        self.y_val = y_val\n",
    "        self.shape = shape\n",
    "        self.model = None\n",
    "        \n",
    "    def trainLSTM(self):\n",
    "        input_ = Input(shape=(20, self.shape))\n",
    "        \n",
    "        lstm = LSTM(10, activation='relu')(input_)\n",
    "        \n",
    "        dense_ = Dense(forecast)(lstm)\n",
    "        self.model = Model(inputs=input_, outputs=dense_)\n",
    "        self.model.compile(loss='mean_squared_error', optimizer=Adam(learning_rate=0.001))\n",
    "        return self.model.fit(self.X_train, self.y_train, epochs=40, batch_size=batch_size, validation_data=(self.X_val, self.y_val), shuffle=False)\n",
    "\n",
    "    def predictLSTM(self, X):\n",
    "        return self.model.predict(X)\n",
    "        "
   ]
  },
  {
   "cell_type": "code",
   "execution_count": 252,
   "id": "1717bd5d-067d-4b37-909b-333600029cc4",
   "metadata": {},
   "outputs": [],
   "source": [
    "from sklearn.metrics import r2_score, mean_squared_error\n",
    "\n",
    "def runLSTM(df_copy, MA): \n",
    "    pred = df_copy[['close', 'sentiment', 'weighted_sentiment', 'w_prev_day_sentiment', 'w_prev_week_sentiment', 'w_prev_month_sentiment', 'prev_day_sentiment', 'prev_week_sentiment', 'prev_month_sentiment', 'week_change', 'day_change', 'month_change', 'isRallyTime']]\n",
    "    \n",
    "    # Train and test_set\n",
    "    rows = pred.shape[0]\n",
    "    train = pred[0:int(rows * (.9))]\n",
    "    test = pred[int(rows * (.9)):]\n",
    "\n",
    "    # Normalizing the data \n",
    "    train_mean = train.mean()\n",
    "    train_std = train.std()\n",
    "    train = (train-train_mean) / train_std\n",
    "    test = (test-train_mean) / train_std\n",
    "    price_pred_cat = pd.concat([train, test])\n",
    "\n",
    "    # Creating the X and Y for training\n",
    "    X, Y = transformLSTMData(price_pred_cat.values, 20, n_ahead=forecast)\n",
    "\n",
    "    #Train and test sets \n",
    "    Xtrain, Ytrain = X[0:int(X.shape[0] * (1-test_share))], Y[0:int(X.shape[0] * .9)]\n",
    "    Xval, Yval = X[int(X.shape[0] * (1-test_share)):], Y[int(X.shape[0] * .9):]\n",
    "    lstm_model = LSTMModel(Xtrain, Ytrain, Xval, Yval, X.shape[2])\n",
    "\n",
    "    history = lstm_model.trainLSTM()\n",
    "    return lstm_model, Xval, Yval, train_mean, train_std\n",
    "\n",
    "\n",
    "def computeScore(X_test, y_test, lstm_model):\n",
    "    y_pred = [x[0] for x in lstm_model.predictLSTM(X_test)]\n",
    "    y_test_2 = [x[0] for x in y_test]\n",
    "\n",
    "    print(\"R2 score : %.2f\" % r2_score(y_test_2, y_pred))\n",
    "    print(\"Mean squared error: %.2f\" % mean_squared_error(y_test_2,y_pred))\n",
    "    \n",
    "def graphPrediction(X_test, Y_test, lstm_model, df_copy, train_mean, train_std, timeInt):\n",
    "    \n",
    "    #Get prediction and y_test set\n",
    "    y_predictions = [x[0] for x in lstm_model.predictLSTM(X_test)]\n",
    "    y = [y[0] for y in Y_test]\n",
    "    \n",
    "    days = df_copy['date'].values[-len(y):]\n",
    "    \n",
    "    graphFrame = pd.concat([\n",
    "     pd.DataFrame({'date': days, 'close': y, 'type': 'original'}),\n",
    "     pd.DataFrame({'date': days, 'close': y_predictions, 'type': 'forecast'})\n",
    "    ])\n",
    "    \n",
    "    #Unnormalize the close price\n",
    "    graphFrame['close_unnormal'] = [(x * train_std['close']) + train_mean['close'] for x in graphFrame['close']]\n",
    "    \n",
    "    #Graph both forecast and original\n",
    "    pivoted = graphFrame.pivot_table(index='date', columns='type')\n",
    "    pivoted.columns = ['_'.join(x).strip() for x in pivoted.columns.values]\n",
    "    plt.figure(figsize=(12, 12))\n",
    "    plt.plot(pivoted.index, pivoted.close_unnormal_original, color='blue', label='original')\n",
    "    plt.plot(pivoted.index, pivoted.close_unnormal_forecast, color='red', label='forecast')\n",
    "    plt.title('BTC Price Prediction for ' + timeInt + ' hour interval')\n",
    "    plt.legend()\n",
    "    plt.show()"
   ]
  },
  {
   "cell_type": "code",
   "execution_count": 230,
   "id": "32325de3-264c-48e2-88d3-ce9407e71ba8",
   "metadata": {},
   "outputs": [
    {
     "name": "stdout",
     "output_type": "stream",
     "text": [
      "Epoch 1/40\n",
      "10/10 [==============================] - 1s 22ms/step - loss: 0.5567 - val_loss: 0.1941\n",
      "Epoch 2/40\n",
      "10/10 [==============================] - 0s 7ms/step - loss: 0.4970 - val_loss: 0.1938\n",
      "Epoch 3/40\n",
      "10/10 [==============================] - 0s 7ms/step - loss: 0.4537 - val_loss: 0.1955\n",
      "Epoch 4/40\n",
      "10/10 [==============================] - 0s 7ms/step - loss: 0.4101 - val_loss: 0.1975\n",
      "Epoch 5/40\n",
      "10/10 [==============================] - 0s 7ms/step - loss: 0.3654 - val_loss: 0.2002\n",
      "Epoch 6/40\n",
      "10/10 [==============================] - 0s 7ms/step - loss: 0.3162 - val_loss: 0.2072\n",
      "Epoch 7/40\n",
      "10/10 [==============================] - 0s 7ms/step - loss: 0.2601 - val_loss: 0.2270\n",
      "Epoch 8/40\n",
      "10/10 [==============================] - 0s 7ms/step - loss: 0.2166 - val_loss: 0.2610\n",
      "Epoch 9/40\n",
      "10/10 [==============================] - 0s 6ms/step - loss: 0.1890 - val_loss: 0.2920\n",
      "Epoch 10/40\n",
      "10/10 [==============================] - 0s 6ms/step - loss: 0.1747 - val_loss: 0.2773\n",
      "Epoch 11/40\n",
      "10/10 [==============================] - 0s 7ms/step - loss: 0.1635 - val_loss: 0.2583\n",
      "Epoch 12/40\n",
      "10/10 [==============================] - 0s 7ms/step - loss: 0.1520 - val_loss: 0.2487\n",
      "Epoch 13/40\n",
      "10/10 [==============================] - 0s 6ms/step - loss: 0.1418 - val_loss: 0.2322\n",
      "Epoch 14/40\n",
      "10/10 [==============================] - 0s 7ms/step - loss: 0.1327 - val_loss: 0.2180\n",
      "Epoch 15/40\n",
      "10/10 [==============================] - 0s 7ms/step - loss: 0.1241 - val_loss: 0.2071\n",
      "Epoch 16/40\n",
      "10/10 [==============================] - 0s 8ms/step - loss: 0.1163 - val_loss: 0.1947\n",
      "Epoch 17/40\n",
      "10/10 [==============================] - 0s 8ms/step - loss: 0.1078 - val_loss: 0.1827\n",
      "Epoch 18/40\n",
      "10/10 [==============================] - 0s 8ms/step - loss: 0.1001 - val_loss: 0.1713\n",
      "Epoch 19/40\n",
      "10/10 [==============================] - 0s 7ms/step - loss: 0.0931 - val_loss: 0.1603\n",
      "Epoch 20/40\n",
      "10/10 [==============================] - 0s 7ms/step - loss: 0.0866 - val_loss: 0.1504\n",
      "Epoch 21/40\n",
      "10/10 [==============================] - 0s 8ms/step - loss: 0.0807 - val_loss: 0.1418\n",
      "Epoch 22/40\n",
      "10/10 [==============================] - 0s 7ms/step - loss: 0.0756 - val_loss: 0.1349\n",
      "Epoch 23/40\n",
      "10/10 [==============================] - 0s 7ms/step - loss: 0.0716 - val_loss: 0.1289\n",
      "Epoch 24/40\n",
      "10/10 [==============================] - 0s 7ms/step - loss: 0.0685 - val_loss: 0.1236\n",
      "Epoch 25/40\n",
      "10/10 [==============================] - 0s 7ms/step - loss: 0.0659 - val_loss: 0.1197\n",
      "Epoch 26/40\n",
      "10/10 [==============================] - 0s 7ms/step - loss: 0.0637 - val_loss: 0.1171\n",
      "Epoch 27/40\n",
      "10/10 [==============================] - 0s 8ms/step - loss: 0.0618 - val_loss: 0.1155\n",
      "Epoch 28/40\n",
      "10/10 [==============================] - 0s 8ms/step - loss: 0.0601 - val_loss: 0.1144\n",
      "Epoch 29/40\n",
      "10/10 [==============================] - 0s 8ms/step - loss: 0.0584 - val_loss: 0.1137\n",
      "Epoch 30/40\n",
      "10/10 [==============================] - 0s 8ms/step - loss: 0.0569 - val_loss: 0.1133\n",
      "Epoch 31/40\n",
      "10/10 [==============================] - 0s 8ms/step - loss: 0.0555 - val_loss: 0.1130\n",
      "Epoch 32/40\n",
      "10/10 [==============================] - 0s 9ms/step - loss: 0.0542 - val_loss: 0.1128\n",
      "Epoch 33/40\n",
      "10/10 [==============================] - 0s 9ms/step - loss: 0.0529 - val_loss: 0.1124\n",
      "Epoch 34/40\n",
      "10/10 [==============================] - 0s 9ms/step - loss: 0.0516 - val_loss: 0.1121\n",
      "Epoch 35/40\n",
      "10/10 [==============================] - 0s 9ms/step - loss: 0.0505 - val_loss: 0.1116\n",
      "Epoch 36/40\n",
      "10/10 [==============================] - 0s 7ms/step - loss: 0.0494 - val_loss: 0.1112\n",
      "Epoch 37/40\n",
      "10/10 [==============================] - 0s 7ms/step - loss: 0.0483 - val_loss: 0.1108\n",
      "Epoch 38/40\n",
      "10/10 [==============================] - 0s 7ms/step - loss: 0.0472 - val_loss: 0.1105\n",
      "Epoch 39/40\n",
      "10/10 [==============================] - 0s 7ms/step - loss: 0.0463 - val_loss: 0.1100\n",
      "Epoch 40/40\n",
      "10/10 [==============================] - 0s 7ms/step - loss: 0.0453 - val_loss: 0.1097\n"
     ]
    }
   ],
   "source": [
    "lstm_model_six, six_xval, six_yval, six_mean, six_std = runLSTM(six_df, six_hour_MA)\n"
   ]
  },
  {
   "cell_type": "code",
   "execution_count": 253,
   "id": "9cace2be-012c-4321-a774-bbb7792d38cf",
   "metadata": {},
   "outputs": [
    {
     "name": "stdout",
     "output_type": "stream",
     "text": [
      "R2 score : 0.27\n",
      "Mean squared error: 0.11\n"
     ]
    },
    {
     "data": {
      "image/png": "[encoded data removed]",
      "text/plain": [
       "<Figure size 864x864 with 1 Axes>"
      ]
     },
     "metadata": {
      "needs_background": "light"
     },
     "output_type": "display_data"
    }
   ],
   "source": [
    "computeScore(six_xval, six_yval, lstm_model_six)\n",
    "graphPrediction(six_xval, six_yval, lstm_model_six, six_df, six_mean, six_std, '6')"
   ]
  },
  {
   "cell_type": "code",
   "execution_count": 232,
   "id": "025990c7-e465-4f4d-977a-67b20b245da2",
   "metadata": {},
   "outputs": [
    {
     "name": "stdout",
     "output_type": "stream",
     "text": [
      "Epoch 1/40\n",
      "57/57 [==============================] - 1s 7ms/step - loss: 2.1326 - val_loss: 1.1514\n",
      "Epoch 2/40\n",
      "57/57 [==============================] - 0s 4ms/step - loss: 1.0658 - val_loss: 0.7273\n",
      "Epoch 3/40\n",
      "57/57 [==============================] - 0s 4ms/step - loss: 0.5221 - val_loss: 0.4373\n",
      "Epoch 4/40\n",
      "57/57 [==============================] - 0s 4ms/step - loss: 0.2810 - val_loss: 0.3470\n",
      "Epoch 5/40\n",
      "57/57 [==============================] - 0s 4ms/step - loss: 0.1818 - val_loss: 0.3322\n",
      "Epoch 6/40\n",
      "57/57 [==============================] - 0s 4ms/step - loss: 0.1331 - val_loss: 0.2767\n",
      "Epoch 7/40\n",
      "57/57 [==============================] - 0s 6ms/step - loss: 0.1065 - val_loss: 0.2508\n",
      "Epoch 8/40\n",
      "57/57 [==============================] - 0s 5ms/step - loss: 0.0942 - val_loss: 0.2218\n",
      "Epoch 9/40\n",
      "57/57 [==============================] - 0s 5ms/step - loss: 0.0793 - val_loss: 0.1959\n",
      "Epoch 10/40\n",
      "57/57 [==============================] - 0s 5ms/step - loss: 0.0703 - val_loss: 0.1790\n",
      "Epoch 11/40\n",
      "57/57 [==============================] - 0s 5ms/step - loss: 0.0622 - val_loss: 0.1579\n",
      "Epoch 12/40\n",
      "57/57 [==============================] - 0s 5ms/step - loss: 0.0565 - val_loss: 0.1449\n",
      "Epoch 13/40\n",
      "57/57 [==============================] - 0s 5ms/step - loss: 0.0516 - val_loss: 0.1288\n",
      "Epoch 14/40\n",
      "57/57 [==============================] - 0s 5ms/step - loss: 0.0498 - val_loss: 0.1193\n",
      "Epoch 15/40\n",
      "57/57 [==============================] - 0s 5ms/step - loss: 0.0442 - val_loss: 0.1064\n",
      "Epoch 16/40\n",
      "57/57 [==============================] - 0s 5ms/step - loss: 0.0417 - val_loss: 0.1001\n",
      "Epoch 17/40\n",
      "57/57 [==============================] - 0s 4ms/step - loss: 0.0378 - val_loss: 0.0913\n",
      "Epoch 18/40\n",
      "57/57 [==============================] - 0s 5ms/step - loss: 0.0353 - val_loss: 0.0853\n",
      "Epoch 19/40\n",
      "57/57 [==============================] - 0s 6ms/step - loss: 0.0331 - val_loss: 0.0801\n",
      "Epoch 20/40\n",
      "57/57 [==============================] - 0s 6ms/step - loss: 0.0325 - val_loss: 0.0760\n",
      "Epoch 21/40\n",
      "57/57 [==============================] - 0s 6ms/step - loss: 0.0304 - val_loss: 0.0713\n",
      "Epoch 22/40\n",
      "57/57 [==============================] - 0s 5ms/step - loss: 0.0307 - val_loss: 0.0697\n",
      "Epoch 23/40\n",
      "57/57 [==============================] - 0s 5ms/step - loss: 0.0278 - val_loss: 0.0654\n",
      "Epoch 24/40\n",
      "57/57 [==============================] - 0s 5ms/step - loss: 0.0266 - val_loss: 0.0633\n",
      "Epoch 25/40\n",
      "57/57 [==============================] - 0s 5ms/step - loss: 0.0255 - val_loss: 0.0612\n",
      "Epoch 26/40\n",
      "57/57 [==============================] - 0s 5ms/step - loss: 0.0247 - val_loss: 0.0588\n",
      "Epoch 27/40\n",
      "57/57 [==============================] - 0s 5ms/step - loss: 0.0238 - val_loss: 0.0566\n",
      "Epoch 28/40\n",
      "57/57 [==============================] - 0s 5ms/step - loss: 0.0235 - val_loss: 0.0558\n",
      "Epoch 29/40\n",
      "57/57 [==============================] - 0s 5ms/step - loss: 0.0226 - val_loss: 0.0530\n",
      "Epoch 30/40\n",
      "57/57 [==============================] - 0s 5ms/step - loss: 0.0224 - val_loss: 0.0526\n",
      "Epoch 31/40\n",
      "57/57 [==============================] - 0s 5ms/step - loss: 0.0216 - val_loss: 0.0500\n",
      "Epoch 32/40\n",
      "57/57 [==============================] - 0s 5ms/step - loss: 0.0214 - val_loss: 0.0499\n",
      "Epoch 33/40\n",
      "57/57 [==============================] - 0s 5ms/step - loss: 0.0206 - val_loss: 0.0472\n",
      "Epoch 34/40\n",
      "57/57 [==============================] - 0s 6ms/step - loss: 0.0201 - val_loss: 0.0475\n",
      "Epoch 35/40\n",
      "57/57 [==============================] - 0s 5ms/step - loss: 0.0194 - val_loss: 0.0455\n",
      "Epoch 36/40\n",
      "57/57 [==============================] - 0s 5ms/step - loss: 0.0189 - val_loss: 0.0453\n",
      "Epoch 37/40\n",
      "57/57 [==============================] - 0s 5ms/step - loss: 0.0183 - val_loss: 0.0435\n",
      "Epoch 38/40\n",
      "57/57 [==============================] - 0s 7ms/step - loss: 0.0178 - val_loss: 0.0436\n",
      "Epoch 39/40\n",
      "57/57 [==============================] - 0s 6ms/step - loss: 0.0175 - val_loss: 0.0416\n",
      "Epoch 40/40\n",
      "57/57 [==============================] - 0s 5ms/step - loss: 0.0172 - val_loss: 0.0422\n"
     ]
    }
   ],
   "source": [
    "lstm_model_hour, hour_xval, hour_yval, hour_mean, hour_std = runLSTM(hourly_df, hourly_MA)\n"
   ]
  },
  {
   "cell_type": "code",
   "execution_count": 254,
   "id": "2f6f3eca-8c0d-4b7f-b934-4b908e30ba66",
   "metadata": {},
   "outputs": [
    {
     "name": "stdout",
     "output_type": "stream",
     "text": [
      "R2 score : 0.72\n",
      "Mean squared error: 0.04\n"
     ]
    },
    {
     "data": {
      "image/png": "[encoded data removed]",
      "text/plain": [
       "<Figure size 864x864 with 1 Axes>"
      ]
     },
     "metadata": {
      "needs_background": "light"
     },
     "output_type": "display_data"
    }
   ],
   "source": [
    "computeScore(hour_xval, hour_yval, lstm_model_hour)\n",
    "graphPrediction(hour_xval, hour_yval, lstm_model_hour, hourly_df, hour_mean, hour_std, '1')"
   ]
  },
  {
   "cell_type": "code",
   "execution_count": 238,
   "id": "92facf6f-45d3-4646-9b13-9af31dc38e59",
   "metadata": {},
   "outputs": [
    {
     "name": "stdout",
     "output_type": "stream",
     "text": [
      "Epoch 1/40\n",
      "5/5 [==============================] - 1s 53ms/step - loss: 2.0632 - val_loss: 0.7632\n",
      "Epoch 2/40\n",
      "5/5 [==============================] - 0s 10ms/step - loss: 1.7073 - val_loss: 0.5685\n",
      "Epoch 3/40\n",
      "5/5 [==============================] - 0s 10ms/step - loss: 1.4300 - val_loss: 0.4194\n",
      "Epoch 4/40\n",
      "5/5 [==============================] - 0s 10ms/step - loss: 1.2093 - val_loss: 0.3166\n",
      "Epoch 5/40\n",
      "5/5 [==============================] - 0s 10ms/step - loss: 1.0372 - val_loss: 0.2524\n",
      "Epoch 6/40\n",
      "5/5 [==============================] - 0s 10ms/step - loss: 0.9000 - val_loss: 0.2210\n",
      "Epoch 7/40\n",
      "5/5 [==============================] - 0s 14ms/step - loss: 0.7845 - val_loss: 0.2185\n",
      "Epoch 8/40\n",
      "5/5 [==============================] - 0s 11ms/step - loss: 0.6904 - val_loss: 0.2422\n",
      "Epoch 9/40\n",
      "5/5 [==============================] - 0s 10ms/step - loss: 0.6183 - val_loss: 0.2877\n",
      "Epoch 10/40\n",
      "5/5 [==============================] - 0s 10ms/step - loss: 0.5672 - val_loss: 0.3428\n",
      "Epoch 11/40\n",
      "5/5 [==============================] - 0s 10ms/step - loss: 0.5304 - val_loss: 0.3803\n",
      "Epoch 12/40\n",
      "5/5 [==============================] - 0s 10ms/step - loss: 0.4996 - val_loss: 0.3818\n",
      "Epoch 13/40\n",
      "5/5 [==============================] - 0s 10ms/step - loss: 0.4706 - val_loss: 0.3560\n",
      "Epoch 14/40\n",
      "5/5 [==============================] - 0s 10ms/step - loss: 0.4440 - val_loss: 0.3221\n",
      "Epoch 15/40\n",
      "5/5 [==============================] - 0s 9ms/step - loss: 0.4204 - val_loss: 0.2948\n",
      "Epoch 16/40\n",
      "5/5 [==============================] - 0s 10ms/step - loss: 0.3981 - val_loss: 0.2765\n",
      "Epoch 17/40\n",
      "5/5 [==============================] - 0s 10ms/step - loss: 0.3763 - val_loss: 0.2654\n",
      "Epoch 18/40\n",
      "5/5 [==============================] - 0s 10ms/step - loss: 0.3546 - val_loss: 0.2594\n",
      "Epoch 19/40\n",
      "5/5 [==============================] - 0s 10ms/step - loss: 0.3332 - val_loss: 0.2567\n",
      "Epoch 20/40\n",
      "5/5 [==============================] - 0s 10ms/step - loss: 0.3123 - val_loss: 0.2553\n",
      "Epoch 21/40\n",
      "5/5 [==============================] - 0s 11ms/step - loss: 0.2924 - val_loss: 0.2540\n",
      "Epoch 22/40\n",
      "5/5 [==============================] - 0s 11ms/step - loss: 0.2739 - val_loss: 0.2525\n",
      "Epoch 23/40\n",
      "5/5 [==============================] - 0s 11ms/step - loss: 0.2568 - val_loss: 0.2515\n",
      "Epoch 24/40\n",
      "5/5 [==============================] - 0s 10ms/step - loss: 0.2410 - val_loss: 0.2518\n",
      "Epoch 25/40\n",
      "5/5 [==============================] - 0s 11ms/step - loss: 0.2267 - val_loss: 0.2524\n",
      "Epoch 26/40\n",
      "5/5 [==============================] - 0s 10ms/step - loss: 0.2143 - val_loss: 0.2539\n",
      "Epoch 27/40\n",
      "5/5 [==============================] - 0s 10ms/step - loss: 0.2037 - val_loss: 0.2565\n",
      "Epoch 28/40\n",
      "5/5 [==============================] - 0s 10ms/step - loss: 0.1947 - val_loss: 0.2603\n",
      "Epoch 29/40\n",
      "5/5 [==============================] - 0s 10ms/step - loss: 0.1871 - val_loss: 0.2646\n",
      "Epoch 30/40\n",
      "5/5 [==============================] - 0s 10ms/step - loss: 0.1804 - val_loss: 0.2691\n",
      "Epoch 31/40\n",
      "5/5 [==============================] - 0s 9ms/step - loss: 0.1746 - val_loss: 0.2738\n",
      "Epoch 32/40\n",
      "5/5 [==============================] - 0s 10ms/step - loss: 0.1692 - val_loss: 0.2793\n",
      "Epoch 33/40\n",
      "5/5 [==============================] - 0s 10ms/step - loss: 0.1642 - val_loss: 0.2852\n",
      "Epoch 34/40\n",
      "5/5 [==============================] - 0s 10ms/step - loss: 0.1594 - val_loss: 0.2908\n",
      "Epoch 35/40\n",
      "5/5 [==============================] - 0s 10ms/step - loss: 0.1549 - val_loss: 0.2958\n",
      "Epoch 36/40\n",
      "5/5 [==============================] - 0s 10ms/step - loss: 0.1506 - val_loss: 0.3007\n",
      "Epoch 37/40\n",
      "5/5 [==============================] - 0s 10ms/step - loss: 0.1465 - val_loss: 0.3057\n",
      "Epoch 38/40\n",
      "5/5 [==============================] - 0s 10ms/step - loss: 0.1424 - val_loss: 0.3112\n",
      "Epoch 39/40\n",
      "5/5 [==============================] - 0s 10ms/step - loss: 0.1384 - val_loss: 0.3171\n",
      "Epoch 40/40\n",
      "5/5 [==============================] - 0s 10ms/step - loss: 0.1344 - val_loss: 0.3229\n"
     ]
    }
   ],
   "source": [
    "lstm_model_12, twelve_xval, twelve_yval, twelve_mean, twelve_std = runLSTM(twelve_df, twelve_MA)\n"
   ]
  },
  {
   "cell_type": "code",
   "execution_count": 255,
   "id": "9fc02e49-9c21-44a9-aaf5-ada77af7a716",
   "metadata": {},
   "outputs": [
    {
     "name": "stdout",
     "output_type": "stream",
     "text": [
      "R2 score : -0.95\n",
      "Mean squared error: 0.32\n"
     ]
    },
    {
     "data": {
      "image/png": "[encoded data removed]",
      "text/plain": [
       "<Figure size 864x864 with 1 Axes>"
      ]
     },
     "metadata": {
      "needs_background": "light"
     },
     "output_type": "display_data"
    }
   ],
   "source": [
    "computeScore(twelve_xval, twelve_yval, lstm_model_12)\n",
    "graphPrediction(twelve_xval, twelve_yval, lstm_model_12, twelve_df, twelve_mean, twelve_std, '12')"
   ]
  },
  {
   "cell_type": "markdown",
   "id": "bb8438eb-80c7-4296-b2dc-e53dc6b3e2ef",
   "metadata": {},
   "source": [
    "### As you can see, hourly performs the best while the 6 hourly also performs well. We equate 12 hourly failure due to lack of data."
   ]
  },
  {
   "cell_type": "markdown",
   "id": "b1037006-6d00-4909-a416-ba384f8b6cc3",
   "metadata": {},
   "source": [
    "Ultimately, we believe that it is quite difficult to predict price of twitter sentiment. \n",
    "\n",
    "We believe our project had a fair amount of bottlenecks in comparison to some other projects on similar topics, such as not using a trained sentiment analysis library for stock/investor context, not having enough data for larger time intervals, and not using other sources of data such as Google trends. But, I do think it was interesting to see how the LSTM differed from logistic regression, comparing continuous vs. classification. I think this was a great learning experience for us to get our hands dirty!"
   ]
  }
 ],
 "metadata": {
  "colab": {
   "name": "cryptosentiment.ipynb",
   "provenance": []
  },
  "kernelspec": {
   "display_name": "Python 3",
   "language": "python",
   "name": "python3"
  },
  "language_info": {
   "codemirror_mode": {
    "name": "ipython",
    "version": 3
   },
   "file_extension": ".py",
   "mimetype": "text/x-python",
   "name": "python",
   "nbconvert_exporter": "python",
   "pygments_lexer": "ipython3",
   "version": "3.8.8"
  }
 },
 "nbformat": 4,
 "nbformat_minor": 5
}
